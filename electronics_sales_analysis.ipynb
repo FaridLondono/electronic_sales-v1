{
  "nbformat": 4,
  "nbformat_minor": 0,
  "metadata": {
    "colab": {
      "name": "electronics_sales_analysis.ipynb",
      "provenance": []
    },
    "kernelspec": {
      "name": "python3",
      "display_name": "Python 3"
    },
    "language_info": {
      "name": "python"
    }
  },
  "cells": [
    {
      "cell_type": "markdown",
      "metadata": {
        "id": "0rZp31bcxoEO"
      },
      "source": [
        "# **Obtaining and cleaning our data**"
      ]
    },
    {
      "cell_type": "code",
      "metadata": {
        "colab": {
          "base_uri": "https://localhost:8080/",
          "height": 142
        },
        "id": "cpEVfnTnwIvk",
        "outputId": "66436ee3-be29-4236-d956-a076a659fcbf"
      },
      "source": [
        "#importing the libs that we'll be needing.\n",
        "import pandas as pd\n",
        "import seaborn as sns\n",
        "import numpy as np\n",
        "import matplotlib.pyplot as plt\n",
        "\n",
        "from datetime import datetime\n",
        "\n",
        "#sales data set we'll be using\n",
        "df = pd.read_csv('https://raw.githubusercontent.com/KeithGalli/Pandas-Data-Science-Tasks/master/SalesAnalysis/Output/all_data.csv')\n",
        "\n",
        "#checking the first 3 rows of our data\n",
        "df.head(3)"
      ],
      "execution_count": 1,
      "outputs": [
        {
          "output_type": "execute_result",
          "data": {
            "text/html": [
              "<div>\n",
              "<style scoped>\n",
              "    .dataframe tbody tr th:only-of-type {\n",
              "        vertical-align: middle;\n",
              "    }\n",
              "\n",
              "    .dataframe tbody tr th {\n",
              "        vertical-align: top;\n",
              "    }\n",
              "\n",
              "    .dataframe thead th {\n",
              "        text-align: right;\n",
              "    }\n",
              "</style>\n",
              "<table border=\"1\" class=\"dataframe\">\n",
              "  <thead>\n",
              "    <tr style=\"text-align: right;\">\n",
              "      <th></th>\n",
              "      <th>Order ID</th>\n",
              "      <th>Product</th>\n",
              "      <th>Quantity Ordered</th>\n",
              "      <th>Price Each</th>\n",
              "      <th>Order Date</th>\n",
              "      <th>Purchase Address</th>\n",
              "    </tr>\n",
              "  </thead>\n",
              "  <tbody>\n",
              "    <tr>\n",
              "      <th>0</th>\n",
              "      <td>176558</td>\n",
              "      <td>USB-C Charging Cable</td>\n",
              "      <td>2</td>\n",
              "      <td>11.95</td>\n",
              "      <td>04/19/19 08:46</td>\n",
              "      <td>917 1st St, Dallas, TX 75001</td>\n",
              "    </tr>\n",
              "    <tr>\n",
              "      <th>1</th>\n",
              "      <td>NaN</td>\n",
              "      <td>NaN</td>\n",
              "      <td>NaN</td>\n",
              "      <td>NaN</td>\n",
              "      <td>NaN</td>\n",
              "      <td>NaN</td>\n",
              "    </tr>\n",
              "    <tr>\n",
              "      <th>2</th>\n",
              "      <td>176559</td>\n",
              "      <td>Bose SoundSport Headphones</td>\n",
              "      <td>1</td>\n",
              "      <td>99.99</td>\n",
              "      <td>04/07/19 22:30</td>\n",
              "      <td>682 Chestnut St, Boston, MA 02215</td>\n",
              "    </tr>\n",
              "  </tbody>\n",
              "</table>\n",
              "</div>"
            ],
            "text/plain": [
              "  Order ID  ...                   Purchase Address\n",
              "0   176558  ...       917 1st St, Dallas, TX 75001\n",
              "1      NaN  ...                                NaN\n",
              "2   176559  ...  682 Chestnut St, Boston, MA 02215\n",
              "\n",
              "[3 rows x 6 columns]"
            ]
          },
          "metadata": {
            "tags": []
          },
          "execution_count": 1
        }
      ]
    },
    {
      "cell_type": "code",
      "metadata": {
        "colab": {
          "base_uri": "https://localhost:8080/"
        },
        "id": "ltRZZYKg0ksi",
        "outputId": "a61546b3-aaea-4bb9-869b-572d590e9451"
      },
      "source": [
        "#changing to all lower case names for our column headers\n",
        "df.columns = map(str.lower, df.columns)\n",
        "df.columns"
      ],
      "execution_count": 2,
      "outputs": [
        {
          "output_type": "execute_result",
          "data": {
            "text/plain": [
              "Index(['order id', 'product', 'quantity ordered', 'price each', 'order date',\n",
              "       'purchase address'],\n",
              "      dtype='object')"
            ]
          },
          "metadata": {
            "tags": []
          },
          "execution_count": 2
        }
      ]
    },
    {
      "cell_type": "code",
      "metadata": {
        "id": "Q2kMMkqW6jBi"
      },
      "source": [
        "#changing the name of our columns\n",
        "df.columns = ['order_id','product', 'quantity_ordered', 'price_each', 'order_date','purchase_address']"
      ],
      "execution_count": 3,
      "outputs": []
    },
    {
      "cell_type": "code",
      "metadata": {
        "colab": {
          "base_uri": "https://localhost:8080/"
        },
        "id": "n_q7rIgpxF6j",
        "outputId": "80b1f439-de14-4f3c-844f-1a5c870bcf86"
      },
      "source": [
        "#looks like there are some null values\n",
        "df.info()"
      ],
      "execution_count": 4,
      "outputs": [
        {
          "output_type": "stream",
          "text": [
            "<class 'pandas.core.frame.DataFrame'>\n",
            "RangeIndex: 186850 entries, 0 to 186849\n",
            "Data columns (total 6 columns):\n",
            " #   Column            Non-Null Count   Dtype \n",
            "---  ------            --------------   ----- \n",
            " 0   order_id          186305 non-null  object\n",
            " 1   product           186305 non-null  object\n",
            " 2   quantity_ordered  186305 non-null  object\n",
            " 3   price_each        186305 non-null  object\n",
            " 4   order_date        186305 non-null  object\n",
            " 5   purchase_address  186305 non-null  object\n",
            "dtypes: object(6)\n",
            "memory usage: 8.6+ MB\n"
          ],
          "name": "stdout"
        }
      ]
    },
    {
      "cell_type": "code",
      "metadata": {
        "id": "C_L8Rm-m7_iE"
      },
      "source": [
        "#dropping null values\n",
        "\n",
        "df = df.dropna()"
      ],
      "execution_count": 5,
      "outputs": []
    },
    {
      "cell_type": "code",
      "metadata": {
        "colab": {
          "base_uri": "https://localhost:8080/"
        },
        "id": "Vz3cnVHsxZin",
        "outputId": "fb64a959-85d0-468e-9f04-86cef0c632a0"
      },
      "source": [
        "#taking a quick look in the values of the product column, just to see if something catches my eye\n",
        "df['product'].value_counts()"
      ],
      "execution_count": 6,
      "outputs": [
        {
          "output_type": "execute_result",
          "data": {
            "text/plain": [
              "USB-C Charging Cable          21903\n",
              "Lightning Charging Cable      21658\n",
              "AAA Batteries (4-pack)        20641\n",
              "AA Batteries (4-pack)         20577\n",
              "Wired Headphones              18882\n",
              "Apple Airpods Headphones      15549\n",
              "Bose SoundSport Headphones    13325\n",
              "27in FHD Monitor               7507\n",
              "iPhone                         6842\n",
              "27in 4K Gaming Monitor         6230\n",
              "34in Ultrawide Monitor         6181\n",
              "Google Phone                   5525\n",
              "Flatscreen TV                  4800\n",
              "Macbook Pro Laptop             4724\n",
              "ThinkPad Laptop                4128\n",
              "20in Monitor                   4101\n",
              "Vareebadd Phone                2065\n",
              "LG Washing Machine              666\n",
              "LG Dryer                        646\n",
              "Product                         355\n",
              "Name: product, dtype: int64"
            ]
          },
          "metadata": {
            "tags": []
          },
          "execution_count": 6
        }
      ]
    },
    {
      "cell_type": "code",
      "metadata": {
        "id": "ZUqJvvYP4yF5"
      },
      "source": [
        "#correcting the df, deleting rows that have the word \"Product\" as a product\n",
        "df = df.drop(df[df['product'] == 'Product'].index)"
      ],
      "execution_count": 7,
      "outputs": []
    },
    {
      "cell_type": "code",
      "metadata": {
        "colab": {
          "base_uri": "https://localhost:8080/"
        },
        "id": "-o9xU8so_9Kp",
        "outputId": "fdbde5e6-7eeb-46bc-d4b1-56e44897a0a3"
      },
      "source": [
        "#how many unique values we have in every column?\n",
        "for column in df:\n",
        "  unique_values = np.unique(df[column])\n",
        "  nr_values = len(unique_values)\n",
        "  if nr_values < 15:\n",
        "    print('the number of unique values for column {} is {} -- {}'.format(column, nr_values, unique_values))\n",
        "  else:\n",
        "    print('the number of unique values for column {} is {}'.format(column, nr_values))\n"
      ],
      "execution_count": 8,
      "outputs": [
        {
          "output_type": "stream",
          "text": [
            "the number of unique values for column order_id is 178437\n",
            "the number of unique values for column product is 19\n",
            "the number of unique values for column quantity_ordered is 9 -- ['1' '2' '3' '4' '5' '6' '7' '8' '9']\n",
            "the number of unique values for column price_each is 23\n",
            "the number of unique values for column order_date is 142395\n",
            "the number of unique values for column purchase_address is 140787\n"
          ],
          "name": "stdout"
        }
      ]
    },
    {
      "cell_type": "code",
      "metadata": {
        "colab": {
          "base_uri": "https://localhost:8080/",
          "height": 173
        },
        "id": "3zMHvOenBe8n",
        "outputId": "8d53f232-46e4-4422-b1c8-1b33d1132a44"
      },
      "source": [
        "df.describe()"
      ],
      "execution_count": 9,
      "outputs": [
        {
          "output_type": "execute_result",
          "data": {
            "text/html": [
              "<div>\n",
              "<style scoped>\n",
              "    .dataframe tbody tr th:only-of-type {\n",
              "        vertical-align: middle;\n",
              "    }\n",
              "\n",
              "    .dataframe tbody tr th {\n",
              "        vertical-align: top;\n",
              "    }\n",
              "\n",
              "    .dataframe thead th {\n",
              "        text-align: right;\n",
              "    }\n",
              "</style>\n",
              "<table border=\"1\" class=\"dataframe\">\n",
              "  <thead>\n",
              "    <tr style=\"text-align: right;\">\n",
              "      <th></th>\n",
              "      <th>order_id</th>\n",
              "      <th>product</th>\n",
              "      <th>quantity_ordered</th>\n",
              "      <th>price_each</th>\n",
              "      <th>order_date</th>\n",
              "      <th>purchase_address</th>\n",
              "    </tr>\n",
              "  </thead>\n",
              "  <tbody>\n",
              "    <tr>\n",
              "      <th>count</th>\n",
              "      <td>185950</td>\n",
              "      <td>185950</td>\n",
              "      <td>185950</td>\n",
              "      <td>185950</td>\n",
              "      <td>185950</td>\n",
              "      <td>185950</td>\n",
              "    </tr>\n",
              "    <tr>\n",
              "      <th>unique</th>\n",
              "      <td>178437</td>\n",
              "      <td>19</td>\n",
              "      <td>9</td>\n",
              "      <td>23</td>\n",
              "      <td>142395</td>\n",
              "      <td>140787</td>\n",
              "    </tr>\n",
              "    <tr>\n",
              "      <th>top</th>\n",
              "      <td>160873</td>\n",
              "      <td>USB-C Charging Cable</td>\n",
              "      <td>1</td>\n",
              "      <td>11.95</td>\n",
              "      <td>12/15/19 20:16</td>\n",
              "      <td>193 Forest St, San Francisco, CA 94016</td>\n",
              "    </tr>\n",
              "    <tr>\n",
              "      <th>freq</th>\n",
              "      <td>5</td>\n",
              "      <td>21903</td>\n",
              "      <td>168552</td>\n",
              "      <td>21903</td>\n",
              "      <td>8</td>\n",
              "      <td>9</td>\n",
              "    </tr>\n",
              "  </tbody>\n",
              "</table>\n",
              "</div>"
            ],
            "text/plain": [
              "       order_id  ...                        purchase_address\n",
              "count    185950  ...                                  185950\n",
              "unique   178437  ...                                  140787\n",
              "top      160873  ...  193 Forest St, San Francisco, CA 94016\n",
              "freq          5  ...                                       9\n",
              "\n",
              "[4 rows x 6 columns]"
            ]
          },
          "metadata": {
            "tags": []
          },
          "execution_count": 9
        }
      ]
    },
    {
      "cell_type": "code",
      "metadata": {
        "id": "vHeHGaHy-hbx"
      },
      "source": [
        "#before we do anything else, let's apply the 2 decimals float format for better reading of our data\n",
        "pd.options.display.float_format = \"{:,.2f}\".format"
      ],
      "execution_count": 10,
      "outputs": []
    },
    {
      "cell_type": "markdown",
      "metadata": {
        "id": "-iUBgnnM0DBc"
      },
      "source": [
        "### **Exploratory Analysis**"
      ]
    },
    {
      "cell_type": "code",
      "metadata": {
        "id": "icTHGmk7x-gI"
      },
      "source": [
        "#adding a month column\n",
        "## first, let's transform our 'order date' column to a date format\n",
        "\n",
        "df['order_date'] = pd.to_datetime(df['order_date'])"
      ],
      "execution_count": 11,
      "outputs": []
    },
    {
      "cell_type": "code",
      "metadata": {
        "colab": {
          "base_uri": "https://localhost:8080/"
        },
        "id": "RBGmAq1H3SGW",
        "outputId": "4547e2c1-6509-4527-aaf4-a925bc9c8a23"
      },
      "source": [
        "df.info()"
      ],
      "execution_count": 12,
      "outputs": [
        {
          "output_type": "stream",
          "text": [
            "<class 'pandas.core.frame.DataFrame'>\n",
            "Int64Index: 185950 entries, 0 to 186849\n",
            "Data columns (total 6 columns):\n",
            " #   Column            Non-Null Count   Dtype         \n",
            "---  ------            --------------   -----         \n",
            " 0   order_id          185950 non-null  object        \n",
            " 1   product           185950 non-null  object        \n",
            " 2   quantity_ordered  185950 non-null  object        \n",
            " 3   price_each        185950 non-null  object        \n",
            " 4   order_date        185950 non-null  datetime64[ns]\n",
            " 5   purchase_address  185950 non-null  object        \n",
            "dtypes: datetime64[ns](1), object(5)\n",
            "memory usage: 9.9+ MB\n"
          ],
          "name": "stdout"
        }
      ]
    },
    {
      "cell_type": "code",
      "metadata": {
        "colab": {
          "base_uri": "https://localhost:8080/"
        },
        "id": "w-EMadNe1_y8",
        "outputId": "19869a5c-ce75-492c-db86-160f1bed5507"
      },
      "source": [
        "#let's check our df's first order\n",
        "df['order_date'].min()"
      ],
      "execution_count": 13,
      "outputs": [
        {
          "output_type": "execute_result",
          "data": {
            "text/plain": [
              "Timestamp('2019-01-01 03:07:00')"
            ]
          },
          "metadata": {
            "tags": []
          },
          "execution_count": 13
        }
      ]
    },
    {
      "cell_type": "code",
      "metadata": {
        "colab": {
          "base_uri": "https://localhost:8080/"
        },
        "id": "6zKGX3ZW3att",
        "outputId": "03dbd7cd-8db2-4f6e-a1a5-0c963b87fb62"
      },
      "source": [
        "#let's check our df's last order\n",
        "df['order_date'].max()"
      ],
      "execution_count": 14,
      "outputs": [
        {
          "output_type": "execute_result",
          "data": {
            "text/plain": [
              "Timestamp('2020-01-01 05:13:00')"
            ]
          },
          "metadata": {
            "tags": []
          },
          "execution_count": 14
        }
      ]
    },
    {
      "cell_type": "code",
      "metadata": {
        "colab": {
          "base_uri": "https://localhost:8080/",
          "height": 204
        },
        "id": "YXWF4DFs6VsK",
        "outputId": "cd1343ff-f7d6-4ad9-ae4c-6feb27b337aa"
      },
      "source": [
        "#adding a month and a day of the week column\n",
        "df['month'] = pd.DatetimeIndex(df['order_date']).month\n",
        "df['day_of_week'] = pd.DatetimeIndex(df['order_date']).dayofweek #monday is 0, tuesday is 1...\n",
        "\n",
        "df.head()"
      ],
      "execution_count": 15,
      "outputs": [
        {
          "output_type": "execute_result",
          "data": {
            "text/html": [
              "<div>\n",
              "<style scoped>\n",
              "    .dataframe tbody tr th:only-of-type {\n",
              "        vertical-align: middle;\n",
              "    }\n",
              "\n",
              "    .dataframe tbody tr th {\n",
              "        vertical-align: top;\n",
              "    }\n",
              "\n",
              "    .dataframe thead th {\n",
              "        text-align: right;\n",
              "    }\n",
              "</style>\n",
              "<table border=\"1\" class=\"dataframe\">\n",
              "  <thead>\n",
              "    <tr style=\"text-align: right;\">\n",
              "      <th></th>\n",
              "      <th>order_id</th>\n",
              "      <th>product</th>\n",
              "      <th>quantity_ordered</th>\n",
              "      <th>price_each</th>\n",
              "      <th>order_date</th>\n",
              "      <th>purchase_address</th>\n",
              "      <th>month</th>\n",
              "      <th>day_of_week</th>\n",
              "    </tr>\n",
              "  </thead>\n",
              "  <tbody>\n",
              "    <tr>\n",
              "      <th>0</th>\n",
              "      <td>176558</td>\n",
              "      <td>USB-C Charging Cable</td>\n",
              "      <td>2</td>\n",
              "      <td>11.95</td>\n",
              "      <td>2019-04-19 08:46:00</td>\n",
              "      <td>917 1st St, Dallas, TX 75001</td>\n",
              "      <td>4</td>\n",
              "      <td>4</td>\n",
              "    </tr>\n",
              "    <tr>\n",
              "      <th>2</th>\n",
              "      <td>176559</td>\n",
              "      <td>Bose SoundSport Headphones</td>\n",
              "      <td>1</td>\n",
              "      <td>99.99</td>\n",
              "      <td>2019-04-07 22:30:00</td>\n",
              "      <td>682 Chestnut St, Boston, MA 02215</td>\n",
              "      <td>4</td>\n",
              "      <td>6</td>\n",
              "    </tr>\n",
              "    <tr>\n",
              "      <th>3</th>\n",
              "      <td>176560</td>\n",
              "      <td>Google Phone</td>\n",
              "      <td>1</td>\n",
              "      <td>600</td>\n",
              "      <td>2019-04-12 14:38:00</td>\n",
              "      <td>669 Spruce St, Los Angeles, CA 90001</td>\n",
              "      <td>4</td>\n",
              "      <td>4</td>\n",
              "    </tr>\n",
              "    <tr>\n",
              "      <th>4</th>\n",
              "      <td>176560</td>\n",
              "      <td>Wired Headphones</td>\n",
              "      <td>1</td>\n",
              "      <td>11.99</td>\n",
              "      <td>2019-04-12 14:38:00</td>\n",
              "      <td>669 Spruce St, Los Angeles, CA 90001</td>\n",
              "      <td>4</td>\n",
              "      <td>4</td>\n",
              "    </tr>\n",
              "    <tr>\n",
              "      <th>5</th>\n",
              "      <td>176561</td>\n",
              "      <td>Wired Headphones</td>\n",
              "      <td>1</td>\n",
              "      <td>11.99</td>\n",
              "      <td>2019-04-30 09:27:00</td>\n",
              "      <td>333 8th St, Los Angeles, CA 90001</td>\n",
              "      <td>4</td>\n",
              "      <td>1</td>\n",
              "    </tr>\n",
              "  </tbody>\n",
              "</table>\n",
              "</div>"
            ],
            "text/plain": [
              "  order_id                     product  ... month day_of_week\n",
              "0   176558        USB-C Charging Cable  ...     4           4\n",
              "2   176559  Bose SoundSport Headphones  ...     4           6\n",
              "3   176560                Google Phone  ...     4           4\n",
              "4   176560            Wired Headphones  ...     4           4\n",
              "5   176561            Wired Headphones  ...     4           1\n",
              "\n",
              "[5 rows x 8 columns]"
            ]
          },
          "metadata": {
            "tags": []
          },
          "execution_count": 15
        }
      ]
    },
    {
      "cell_type": "code",
      "metadata": {
        "id": "vgaRGYTl6Xv-"
      },
      "source": [
        "#adding a total revenue column\n",
        "## first, we gotta transform our price and quantity columns to intergers\n",
        "\n",
        "df['price_each'] = pd.to_numeric(df['price_each'])\n",
        "df['quantity_ordered'] = pd.to_numeric(df['quantity_ordered'])"
      ],
      "execution_count": 16,
      "outputs": []
    },
    {
      "cell_type": "code",
      "metadata": {
        "colab": {
          "base_uri": "https://localhost:8080/"
        },
        "id": "GlgP2b1F3aPY",
        "outputId": "87ea5f34-d2b6-4ef1-8bb9-54ed82431a91"
      },
      "source": [
        "df.info()"
      ],
      "execution_count": 17,
      "outputs": [
        {
          "output_type": "stream",
          "text": [
            "<class 'pandas.core.frame.DataFrame'>\n",
            "Int64Index: 185950 entries, 0 to 186849\n",
            "Data columns (total 8 columns):\n",
            " #   Column            Non-Null Count   Dtype         \n",
            "---  ------            --------------   -----         \n",
            " 0   order_id          185950 non-null  object        \n",
            " 1   product           185950 non-null  object        \n",
            " 2   quantity_ordered  185950 non-null  int64         \n",
            " 3   price_each        185950 non-null  float64       \n",
            " 4   order_date        185950 non-null  datetime64[ns]\n",
            " 5   purchase_address  185950 non-null  object        \n",
            " 6   month             185950 non-null  int64         \n",
            " 7   day_of_week       185950 non-null  int64         \n",
            "dtypes: datetime64[ns](1), float64(1), int64(3), object(3)\n",
            "memory usage: 12.8+ MB\n"
          ],
          "name": "stdout"
        }
      ]
    },
    {
      "cell_type": "code",
      "metadata": {
        "colab": {
          "base_uri": "https://localhost:8080/",
          "height": 204
        },
        "id": "jODQqcRi6X6f",
        "outputId": "d978f93c-ba5b-4dfe-8cbc-c39a4e26b73d"
      },
      "source": [
        "#adding a total sales column\n",
        "df['sales'] = df['price_each']*df['quantity_ordered']\n",
        "df.head()"
      ],
      "execution_count": 18,
      "outputs": [
        {
          "output_type": "execute_result",
          "data": {
            "text/html": [
              "<div>\n",
              "<style scoped>\n",
              "    .dataframe tbody tr th:only-of-type {\n",
              "        vertical-align: middle;\n",
              "    }\n",
              "\n",
              "    .dataframe tbody tr th {\n",
              "        vertical-align: top;\n",
              "    }\n",
              "\n",
              "    .dataframe thead th {\n",
              "        text-align: right;\n",
              "    }\n",
              "</style>\n",
              "<table border=\"1\" class=\"dataframe\">\n",
              "  <thead>\n",
              "    <tr style=\"text-align: right;\">\n",
              "      <th></th>\n",
              "      <th>order_id</th>\n",
              "      <th>product</th>\n",
              "      <th>quantity_ordered</th>\n",
              "      <th>price_each</th>\n",
              "      <th>order_date</th>\n",
              "      <th>purchase_address</th>\n",
              "      <th>month</th>\n",
              "      <th>day_of_week</th>\n",
              "      <th>sales</th>\n",
              "    </tr>\n",
              "  </thead>\n",
              "  <tbody>\n",
              "    <tr>\n",
              "      <th>0</th>\n",
              "      <td>176558</td>\n",
              "      <td>USB-C Charging Cable</td>\n",
              "      <td>2</td>\n",
              "      <td>11.95</td>\n",
              "      <td>2019-04-19 08:46:00</td>\n",
              "      <td>917 1st St, Dallas, TX 75001</td>\n",
              "      <td>4</td>\n",
              "      <td>4</td>\n",
              "      <td>23.90</td>\n",
              "    </tr>\n",
              "    <tr>\n",
              "      <th>2</th>\n",
              "      <td>176559</td>\n",
              "      <td>Bose SoundSport Headphones</td>\n",
              "      <td>1</td>\n",
              "      <td>99.99</td>\n",
              "      <td>2019-04-07 22:30:00</td>\n",
              "      <td>682 Chestnut St, Boston, MA 02215</td>\n",
              "      <td>4</td>\n",
              "      <td>6</td>\n",
              "      <td>99.99</td>\n",
              "    </tr>\n",
              "    <tr>\n",
              "      <th>3</th>\n",
              "      <td>176560</td>\n",
              "      <td>Google Phone</td>\n",
              "      <td>1</td>\n",
              "      <td>600.00</td>\n",
              "      <td>2019-04-12 14:38:00</td>\n",
              "      <td>669 Spruce St, Los Angeles, CA 90001</td>\n",
              "      <td>4</td>\n",
              "      <td>4</td>\n",
              "      <td>600.00</td>\n",
              "    </tr>\n",
              "    <tr>\n",
              "      <th>4</th>\n",
              "      <td>176560</td>\n",
              "      <td>Wired Headphones</td>\n",
              "      <td>1</td>\n",
              "      <td>11.99</td>\n",
              "      <td>2019-04-12 14:38:00</td>\n",
              "      <td>669 Spruce St, Los Angeles, CA 90001</td>\n",
              "      <td>4</td>\n",
              "      <td>4</td>\n",
              "      <td>11.99</td>\n",
              "    </tr>\n",
              "    <tr>\n",
              "      <th>5</th>\n",
              "      <td>176561</td>\n",
              "      <td>Wired Headphones</td>\n",
              "      <td>1</td>\n",
              "      <td>11.99</td>\n",
              "      <td>2019-04-30 09:27:00</td>\n",
              "      <td>333 8th St, Los Angeles, CA 90001</td>\n",
              "      <td>4</td>\n",
              "      <td>1</td>\n",
              "      <td>11.99</td>\n",
              "    </tr>\n",
              "  </tbody>\n",
              "</table>\n",
              "</div>"
            ],
            "text/plain": [
              "  order_id                     product  ...  day_of_week  sales\n",
              "0   176558        USB-C Charging Cable  ...            4  23.90\n",
              "2   176559  Bose SoundSport Headphones  ...            6  99.99\n",
              "3   176560                Google Phone  ...            4 600.00\n",
              "4   176560            Wired Headphones  ...            4  11.99\n",
              "5   176561            Wired Headphones  ...            1  11.99\n",
              "\n",
              "[5 rows x 9 columns]"
            ]
          },
          "metadata": {
            "tags": []
          },
          "execution_count": 18
        }
      ]
    },
    {
      "cell_type": "code",
      "metadata": {
        "colab": {
          "base_uri": "https://localhost:8080/",
          "height": 173
        },
        "id": "oHdiosIW6YGP",
        "outputId": "5b079a77-d177-49ce-b363-1cba0e31996d"
      },
      "source": [
        "#top 3 months in terms of total revenue\n",
        "monthly_rev = df.groupby('month').agg({'sales':'sum'})\n",
        "monthly_rev.sort_values('sales', ascending=False).head(3)"
      ],
      "execution_count": 19,
      "outputs": [
        {
          "output_type": "execute_result",
          "data": {
            "text/html": [
              "<div>\n",
              "<style scoped>\n",
              "    .dataframe tbody tr th:only-of-type {\n",
              "        vertical-align: middle;\n",
              "    }\n",
              "\n",
              "    .dataframe tbody tr th {\n",
              "        vertical-align: top;\n",
              "    }\n",
              "\n",
              "    .dataframe thead th {\n",
              "        text-align: right;\n",
              "    }\n",
              "</style>\n",
              "<table border=\"1\" class=\"dataframe\">\n",
              "  <thead>\n",
              "    <tr style=\"text-align: right;\">\n",
              "      <th></th>\n",
              "      <th>sales</th>\n",
              "    </tr>\n",
              "    <tr>\n",
              "      <th>month</th>\n",
              "      <th></th>\n",
              "    </tr>\n",
              "  </thead>\n",
              "  <tbody>\n",
              "    <tr>\n",
              "      <th>12</th>\n",
              "      <td>4,613,443.34</td>\n",
              "    </tr>\n",
              "    <tr>\n",
              "      <th>10</th>\n",
              "      <td>3,736,726.88</td>\n",
              "    </tr>\n",
              "    <tr>\n",
              "      <th>4</th>\n",
              "      <td>3,390,670.24</td>\n",
              "    </tr>\n",
              "  </tbody>\n",
              "</table>\n",
              "</div>"
            ],
            "text/plain": [
              "             sales\n",
              "month             \n",
              "12    4,613,443.34\n",
              "10    3,736,726.88\n",
              "4     3,390,670.24"
            ]
          },
          "metadata": {
            "tags": []
          },
          "execution_count": 19
        }
      ]
    },
    {
      "cell_type": "code",
      "metadata": {
        "colab": {
          "base_uri": "https://localhost:8080/",
          "height": 368
        },
        "id": "JRGZpN_x6YHv",
        "outputId": "130a5bcd-c691-42f7-f764-194522ac410f"
      },
      "source": [
        "#let's look at it month by month\n",
        "monthly_rev.plot(kind='bar',rot=360, figsize=[12,5]).set_title('monthly Sales', fontsize=14)"
      ],
      "execution_count": 20,
      "outputs": [
        {
          "output_type": "execute_result",
          "data": {
            "text/plain": [
              "Text(0.5, 1.0, 'monthly Sales')"
            ]
          },
          "metadata": {
            "tags": []
          },
          "execution_count": 20
        },
        {
          "output_type": "display_data",
          "data": {
            "image/png": "[encoded data removed]",
            "text/plain": [
              "<Figure size 864x360 with 1 Axes>"
            ]
          },
          "metadata": {
            "tags": [],
            "needs_background": "light"
          }
        }
      ]
    },
    {
      "cell_type": "code",
      "metadata": {
        "colab": {
          "base_uri": "https://localhost:8080/",
          "height": 421
        },
        "id": "TulYgn_I31pH",
        "outputId": "949d4194-d072-43fb-bf00-7897ce07464e"
      },
      "source": [
        "#getting our month over month growth\n",
        "monthly_rev['monthly_growth'] = monthly_rev['sales'].pct_change()\n",
        "monthly_rev.reset_index()"
      ],
      "execution_count": 21,
      "outputs": [
        {
          "output_type": "execute_result",
          "data": {
            "text/html": [
              "<div>\n",
              "<style scoped>\n",
              "    .dataframe tbody tr th:only-of-type {\n",
              "        vertical-align: middle;\n",
              "    }\n",
              "\n",
              "    .dataframe tbody tr th {\n",
              "        vertical-align: top;\n",
              "    }\n",
              "\n",
              "    .dataframe thead th {\n",
              "        text-align: right;\n",
              "    }\n",
              "</style>\n",
              "<table border=\"1\" class=\"dataframe\">\n",
              "  <thead>\n",
              "    <tr style=\"text-align: right;\">\n",
              "      <th></th>\n",
              "      <th>month</th>\n",
              "      <th>sales</th>\n",
              "      <th>monthly_growth</th>\n",
              "    </tr>\n",
              "  </thead>\n",
              "  <tbody>\n",
              "    <tr>\n",
              "      <th>0</th>\n",
              "      <td>1</td>\n",
              "      <td>1,822,256.73</td>\n",
              "      <td>nan</td>\n",
              "    </tr>\n",
              "    <tr>\n",
              "      <th>1</th>\n",
              "      <td>2</td>\n",
              "      <td>2,202,022.42</td>\n",
              "      <td>0.21</td>\n",
              "    </tr>\n",
              "    <tr>\n",
              "      <th>2</th>\n",
              "      <td>3</td>\n",
              "      <td>2,807,100.38</td>\n",
              "      <td>0.27</td>\n",
              "    </tr>\n",
              "    <tr>\n",
              "      <th>3</th>\n",
              "      <td>4</td>\n",
              "      <td>3,390,670.24</td>\n",
              "      <td>0.21</td>\n",
              "    </tr>\n",
              "    <tr>\n",
              "      <th>4</th>\n",
              "      <td>5</td>\n",
              "      <td>3,152,606.75</td>\n",
              "      <td>-0.07</td>\n",
              "    </tr>\n",
              "    <tr>\n",
              "      <th>5</th>\n",
              "      <td>6</td>\n",
              "      <td>2,577,802.26</td>\n",
              "      <td>-0.18</td>\n",
              "    </tr>\n",
              "    <tr>\n",
              "      <th>6</th>\n",
              "      <td>7</td>\n",
              "      <td>2,647,775.76</td>\n",
              "      <td>0.03</td>\n",
              "    </tr>\n",
              "    <tr>\n",
              "      <th>7</th>\n",
              "      <td>8</td>\n",
              "      <td>2,244,467.88</td>\n",
              "      <td>-0.15</td>\n",
              "    </tr>\n",
              "    <tr>\n",
              "      <th>8</th>\n",
              "      <td>9</td>\n",
              "      <td>2,097,560.13</td>\n",
              "      <td>-0.07</td>\n",
              "    </tr>\n",
              "    <tr>\n",
              "      <th>9</th>\n",
              "      <td>10</td>\n",
              "      <td>3,736,726.88</td>\n",
              "      <td>0.78</td>\n",
              "    </tr>\n",
              "    <tr>\n",
              "      <th>10</th>\n",
              "      <td>11</td>\n",
              "      <td>3,199,603.20</td>\n",
              "      <td>-0.14</td>\n",
              "    </tr>\n",
              "    <tr>\n",
              "      <th>11</th>\n",
              "      <td>12</td>\n",
              "      <td>4,613,443.34</td>\n",
              "      <td>0.44</td>\n",
              "    </tr>\n",
              "  </tbody>\n",
              "</table>\n",
              "</div>"
            ],
            "text/plain": [
              "    month        sales  monthly_growth\n",
              "0       1 1,822,256.73             nan\n",
              "1       2 2,202,022.42            0.21\n",
              "2       3 2,807,100.38            0.27\n",
              "3       4 3,390,670.24            0.21\n",
              "4       5 3,152,606.75           -0.07\n",
              "5       6 2,577,802.26           -0.18\n",
              "6       7 2,647,775.76            0.03\n",
              "7       8 2,244,467.88           -0.15\n",
              "8       9 2,097,560.13           -0.07\n",
              "9      10 3,736,726.88            0.78\n",
              "10     11 3,199,603.20           -0.14\n",
              "11     12 4,613,443.34            0.44"
            ]
          },
          "metadata": {
            "tags": []
          },
          "execution_count": 21
        }
      ]
    },
    {
      "cell_type": "code",
      "metadata": {
        "colab": {
          "base_uri": "https://localhost:8080/",
          "height": 372
        },
        "id": "R4o8WAH94QXj",
        "outputId": "90d6961b-d8de-44af-f54b-3fca42dd565a"
      },
      "source": [
        "#plotting it!\n",
        "monthly_rev['monthly_growth'].plot(kind='bar', rot=25,figsize=[10,5], \n",
        "                                     color=monthly_rev['monthly_growth'].apply(lambda x: 'g' if x>0 else 'r')).set_title('monthly growth', fontsize=14)"
      ],
      "execution_count": 22,
      "outputs": [
        {
          "output_type": "execute_result",
          "data": {
            "text/plain": [
              "Text(0.5, 1.0, 'monthly growth')"
            ]
          },
          "metadata": {
            "tags": []
          },
          "execution_count": 22
        },
        {
          "output_type": "display_data",
          "data": {
            "image/png": "[encoded data removed]",
            "text/plain": [
              "<Figure size 720x360 with 1 Axes>"
            ]
          },
          "metadata": {
            "tags": [],
            "needs_background": "light"
          }
        }
      ]
    },
    {
      "cell_type": "code",
      "metadata": {
        "id": "DcIYpB_i6YKz",
        "colab": {
          "base_uri": "https://localhost:8080/",
          "height": 297
        },
        "outputId": "90fb1395-155a-4a0f-a395-35b70fda7bbb"
      },
      "source": [
        "#what's the day of the week that sold the most?\n",
        "daily_rev = df.groupby('day_of_week').agg({'sales':'sum'})\n",
        "daily_rev"
      ],
      "execution_count": 23,
      "outputs": [
        {
          "output_type": "execute_result",
          "data": {
            "text/html": [
              "<div>\n",
              "<style scoped>\n",
              "    .dataframe tbody tr th:only-of-type {\n",
              "        vertical-align: middle;\n",
              "    }\n",
              "\n",
              "    .dataframe tbody tr th {\n",
              "        vertical-align: top;\n",
              "    }\n",
              "\n",
              "    .dataframe thead th {\n",
              "        text-align: right;\n",
              "    }\n",
              "</style>\n",
              "<table border=\"1\" class=\"dataframe\">\n",
              "  <thead>\n",
              "    <tr style=\"text-align: right;\">\n",
              "      <th></th>\n",
              "      <th>sales</th>\n",
              "    </tr>\n",
              "    <tr>\n",
              "      <th>day_of_week</th>\n",
              "      <th></th>\n",
              "    </tr>\n",
              "  </thead>\n",
              "  <tbody>\n",
              "    <tr>\n",
              "      <th>0</th>\n",
              "      <td>4,883,326.72</td>\n",
              "    </tr>\n",
              "    <tr>\n",
              "      <th>1</th>\n",
              "      <td>5,087,956.78</td>\n",
              "    </tr>\n",
              "    <tr>\n",
              "      <th>2</th>\n",
              "      <td>4,988,822.26</td>\n",
              "    </tr>\n",
              "    <tr>\n",
              "      <th>3</th>\n",
              "      <td>4,839,465.16</td>\n",
              "    </tr>\n",
              "    <tr>\n",
              "      <th>4</th>\n",
              "      <td>4,855,938.38</td>\n",
              "    </tr>\n",
              "    <tr>\n",
              "      <th>5</th>\n",
              "      <td>4,904,357.01</td>\n",
              "    </tr>\n",
              "    <tr>\n",
              "      <th>6</th>\n",
              "      <td>4,932,169.66</td>\n",
              "    </tr>\n",
              "  </tbody>\n",
              "</table>\n",
              "</div>"
            ],
            "text/plain": [
              "                   sales\n",
              "day_of_week             \n",
              "0           4,883,326.72\n",
              "1           5,087,956.78\n",
              "2           4,988,822.26\n",
              "3           4,839,465.16\n",
              "4           4,855,938.38\n",
              "5           4,904,357.01\n",
              "6           4,932,169.66"
            ]
          },
          "metadata": {
            "tags": []
          },
          "execution_count": 23
        }
      ]
    },
    {
      "cell_type": "code",
      "metadata": {
        "id": "QHbMnky96YNx",
        "colab": {
          "base_uri": "https://localhost:8080/",
          "height": 305
        },
        "outputId": "4aad35c6-6c77-490f-b7a1-2c968407cb7f"
      },
      "source": [
        "#as we can see, monday's where better, but not by a substantial amount\n",
        "daily_rev.plot(kind='bar')"
      ],
      "execution_count": 24,
      "outputs": [
        {
          "output_type": "execute_result",
          "data": {
            "text/plain": [
              "<matplotlib.axes._subplots.AxesSubplot at 0x7f2b1b2dd2d0>"
            ]
          },
          "metadata": {
            "tags": []
          },
          "execution_count": 24
        },
        {
          "output_type": "display_data",
          "data": {
            "image/png": "[encoded data removed]",
            "text/plain": [
              "<Figure size 432x288 with 1 Axes>"
            ]
          },
          "metadata": {
            "tags": [],
            "needs_background": "light"
          }
        }
      ]
    },
    {
      "cell_type": "code",
      "metadata": {
        "colab": {
          "base_uri": "https://localhost:8080/",
          "height": 204
        },
        "id": "YNhMXLTQJ6GX",
        "outputId": "20af8d15-72d9-4275-ac23-629d87a5b490"
      },
      "source": [
        "#what if we cross the day of the week data with the time the sale happened, maybe we can explore a bit that info\n",
        "## creating hour column\n",
        "df['hour'] = pd.DatetimeIndex(df['order_date']).hour\n",
        "df.head()"
      ],
      "execution_count": 25,
      "outputs": [
        {
          "output_type": "execute_result",
          "data": {
            "text/html": [
              "<div>\n",
              "<style scoped>\n",
              "    .dataframe tbody tr th:only-of-type {\n",
              "        vertical-align: middle;\n",
              "    }\n",
              "\n",
              "    .dataframe tbody tr th {\n",
              "        vertical-align: top;\n",
              "    }\n",
              "\n",
              "    .dataframe thead th {\n",
              "        text-align: right;\n",
              "    }\n",
              "</style>\n",
              "<table border=\"1\" class=\"dataframe\">\n",
              "  <thead>\n",
              "    <tr style=\"text-align: right;\">\n",
              "      <th></th>\n",
              "      <th>order_id</th>\n",
              "      <th>product</th>\n",
              "      <th>quantity_ordered</th>\n",
              "      <th>price_each</th>\n",
              "      <th>order_date</th>\n",
              "      <th>purchase_address</th>\n",
              "      <th>month</th>\n",
              "      <th>day_of_week</th>\n",
              "      <th>sales</th>\n",
              "      <th>hour</th>\n",
              "    </tr>\n",
              "  </thead>\n",
              "  <tbody>\n",
              "    <tr>\n",
              "      <th>0</th>\n",
              "      <td>176558</td>\n",
              "      <td>USB-C Charging Cable</td>\n",
              "      <td>2</td>\n",
              "      <td>11.95</td>\n",
              "      <td>2019-04-19 08:46:00</td>\n",
              "      <td>917 1st St, Dallas, TX 75001</td>\n",
              "      <td>4</td>\n",
              "      <td>4</td>\n",
              "      <td>23.90</td>\n",
              "      <td>8</td>\n",
              "    </tr>\n",
              "    <tr>\n",
              "      <th>2</th>\n",
              "      <td>176559</td>\n",
              "      <td>Bose SoundSport Headphones</td>\n",
              "      <td>1</td>\n",
              "      <td>99.99</td>\n",
              "      <td>2019-04-07 22:30:00</td>\n",
              "      <td>682 Chestnut St, Boston, MA 02215</td>\n",
              "      <td>4</td>\n",
              "      <td>6</td>\n",
              "      <td>99.99</td>\n",
              "      <td>22</td>\n",
              "    </tr>\n",
              "    <tr>\n",
              "      <th>3</th>\n",
              "      <td>176560</td>\n",
              "      <td>Google Phone</td>\n",
              "      <td>1</td>\n",
              "      <td>600.00</td>\n",
              "      <td>2019-04-12 14:38:00</td>\n",
              "      <td>669 Spruce St, Los Angeles, CA 90001</td>\n",
              "      <td>4</td>\n",
              "      <td>4</td>\n",
              "      <td>600.00</td>\n",
              "      <td>14</td>\n",
              "    </tr>\n",
              "    <tr>\n",
              "      <th>4</th>\n",
              "      <td>176560</td>\n",
              "      <td>Wired Headphones</td>\n",
              "      <td>1</td>\n",
              "      <td>11.99</td>\n",
              "      <td>2019-04-12 14:38:00</td>\n",
              "      <td>669 Spruce St, Los Angeles, CA 90001</td>\n",
              "      <td>4</td>\n",
              "      <td>4</td>\n",
              "      <td>11.99</td>\n",
              "      <td>14</td>\n",
              "    </tr>\n",
              "    <tr>\n",
              "      <th>5</th>\n",
              "      <td>176561</td>\n",
              "      <td>Wired Headphones</td>\n",
              "      <td>1</td>\n",
              "      <td>11.99</td>\n",
              "      <td>2019-04-30 09:27:00</td>\n",
              "      <td>333 8th St, Los Angeles, CA 90001</td>\n",
              "      <td>4</td>\n",
              "      <td>1</td>\n",
              "      <td>11.99</td>\n",
              "      <td>9</td>\n",
              "    </tr>\n",
              "  </tbody>\n",
              "</table>\n",
              "</div>"
            ],
            "text/plain": [
              "  order_id                     product  ...  sales  hour\n",
              "0   176558        USB-C Charging Cable  ...  23.90     8\n",
              "2   176559  Bose SoundSport Headphones  ...  99.99    22\n",
              "3   176560                Google Phone  ... 600.00    14\n",
              "4   176560            Wired Headphones  ...  11.99    14\n",
              "5   176561            Wired Headphones  ...  11.99     9\n",
              "\n",
              "[5 rows x 10 columns]"
            ]
          },
          "metadata": {
            "tags": []
          },
          "execution_count": 25
        }
      ]
    },
    {
      "cell_type": "code",
      "metadata": {
        "colab": {
          "base_uri": "https://localhost:8080/",
          "height": 312
        },
        "id": "j-vRxoF5CLfT",
        "outputId": "21f1206c-3ee1-41ab-abda-05015c84dd38"
      },
      "source": [
        "#obtaining a sales by hour chart\n",
        "rev_hour = df[['hour','sales']].groupby('hour').sum()\n",
        "rev_hour.plot(kind='bar',rot=0).set_title('total sales by hour of the day', fontsize=13)"
      ],
      "execution_count": 26,
      "outputs": [
        {
          "output_type": "execute_result",
          "data": {
            "text/plain": [
              "Text(0.5, 1.0, 'total sales by hour of the day')"
            ]
          },
          "metadata": {
            "tags": []
          },
          "execution_count": 26
        },
        {
          "output_type": "display_data",
          "data": {
            "image/png": "[encoded data removed]",
            "text/plain": [
              "<Figure size 432x288 with 1 Axes>"
            ]
          },
          "metadata": {
            "tags": [],
            "needs_background": "light"
          }
        }
      ]
    },
    {
      "cell_type": "code",
      "metadata": {
        "colab": {
          "base_uri": "https://localhost:8080/",
          "height": 569
        },
        "id": "_6JESrk0Lixw",
        "outputId": "ec9d8bf3-7493-4ca2-9d9d-8138092b56fa"
      },
      "source": [
        "#plotting the agglomeration of sales per hour/day of the week\n",
        "\n",
        "pivot = df.pivot_table(index='hour', columns='day_of_week', values='sales', aggfunc='sum')\n",
        "\n",
        "plt.figure(figsize=(9,9))\n",
        "sns.heatmap(pivot, annot=True, fmt='g') #as we can see with the heatmap and the bar chart above, our peaks start at ~11am and ~7pm"
      ],
      "execution_count": 27,
      "outputs": [
        {
          "output_type": "execute_result",
          "data": {
            "text/plain": [
              "<matplotlib.axes._subplots.AxesSubplot at 0x7f2b1b209e90>"
            ]
          },
          "metadata": {
            "tags": []
          },
          "execution_count": 27
        },
        {
          "output_type": "display_data",
          "data": {
            "image/png": "[encoded data removed]",
            "text/plain": [
              "<Figure size 648x648 with 2 Axes>"
            ]
          },
          "metadata": {
            "tags": [],
            "needs_background": "light"
          }
        }
      ]
    },
    {
      "cell_type": "code",
      "metadata": {
        "colab": {
          "base_uri": "https://localhost:8080/",
          "height": 289
        },
        "id": "BK9d9cUOLtAp",
        "outputId": "31d21fb7-fd14-447b-a3fb-c7596aeb4c91"
      },
      "source": [
        "#what city sold the most?\n",
        "## creating a city column\n",
        "\n",
        "df['city'] = df['purchase_address'].apply(lambda x: x.split(',')[1]) #this basically means that for the content of a cell, split it by ',' and get the second value \n",
        "df.head()"
      ],
      "execution_count": 28,
      "outputs": [
        {
          "output_type": "execute_result",
          "data": {
            "text/html": [
              "<div>\n",
              "<style scoped>\n",
              "    .dataframe tbody tr th:only-of-type {\n",
              "        vertical-align: middle;\n",
              "    }\n",
              "\n",
              "    .dataframe tbody tr th {\n",
              "        vertical-align: top;\n",
              "    }\n",
              "\n",
              "    .dataframe thead th {\n",
              "        text-align: right;\n",
              "    }\n",
              "</style>\n",
              "<table border=\"1\" class=\"dataframe\">\n",
              "  <thead>\n",
              "    <tr style=\"text-align: right;\">\n",
              "      <th></th>\n",
              "      <th>order_id</th>\n",
              "      <th>product</th>\n",
              "      <th>quantity_ordered</th>\n",
              "      <th>price_each</th>\n",
              "      <th>order_date</th>\n",
              "      <th>purchase_address</th>\n",
              "      <th>month</th>\n",
              "      <th>day_of_week</th>\n",
              "      <th>sales</th>\n",
              "      <th>hour</th>\n",
              "      <th>city</th>\n",
              "    </tr>\n",
              "  </thead>\n",
              "  <tbody>\n",
              "    <tr>\n",
              "      <th>0</th>\n",
              "      <td>176558</td>\n",
              "      <td>USB-C Charging Cable</td>\n",
              "      <td>2</td>\n",
              "      <td>11.95</td>\n",
              "      <td>2019-04-19 08:46:00</td>\n",
              "      <td>917 1st St, Dallas, TX 75001</td>\n",
              "      <td>4</td>\n",
              "      <td>4</td>\n",
              "      <td>23.90</td>\n",
              "      <td>8</td>\n",
              "      <td>Dallas</td>\n",
              "    </tr>\n",
              "    <tr>\n",
              "      <th>2</th>\n",
              "      <td>176559</td>\n",
              "      <td>Bose SoundSport Headphones</td>\n",
              "      <td>1</td>\n",
              "      <td>99.99</td>\n",
              "      <td>2019-04-07 22:30:00</td>\n",
              "      <td>682 Chestnut St, Boston, MA 02215</td>\n",
              "      <td>4</td>\n",
              "      <td>6</td>\n",
              "      <td>99.99</td>\n",
              "      <td>22</td>\n",
              "      <td>Boston</td>\n",
              "    </tr>\n",
              "    <tr>\n",
              "      <th>3</th>\n",
              "      <td>176560</td>\n",
              "      <td>Google Phone</td>\n",
              "      <td>1</td>\n",
              "      <td>600.00</td>\n",
              "      <td>2019-04-12 14:38:00</td>\n",
              "      <td>669 Spruce St, Los Angeles, CA 90001</td>\n",
              "      <td>4</td>\n",
              "      <td>4</td>\n",
              "      <td>600.00</td>\n",
              "      <td>14</td>\n",
              "      <td>Los Angeles</td>\n",
              "    </tr>\n",
              "    <tr>\n",
              "      <th>4</th>\n",
              "      <td>176560</td>\n",
              "      <td>Wired Headphones</td>\n",
              "      <td>1</td>\n",
              "      <td>11.99</td>\n",
              "      <td>2019-04-12 14:38:00</td>\n",
              "      <td>669 Spruce St, Los Angeles, CA 90001</td>\n",
              "      <td>4</td>\n",
              "      <td>4</td>\n",
              "      <td>11.99</td>\n",
              "      <td>14</td>\n",
              "      <td>Los Angeles</td>\n",
              "    </tr>\n",
              "    <tr>\n",
              "      <th>5</th>\n",
              "      <td>176561</td>\n",
              "      <td>Wired Headphones</td>\n",
              "      <td>1</td>\n",
              "      <td>11.99</td>\n",
              "      <td>2019-04-30 09:27:00</td>\n",
              "      <td>333 8th St, Los Angeles, CA 90001</td>\n",
              "      <td>4</td>\n",
              "      <td>1</td>\n",
              "      <td>11.99</td>\n",
              "      <td>9</td>\n",
              "      <td>Los Angeles</td>\n",
              "    </tr>\n",
              "  </tbody>\n",
              "</table>\n",
              "</div>"
            ],
            "text/plain": [
              "  order_id                     product  ...  hour          city\n",
              "0   176558        USB-C Charging Cable  ...     8        Dallas\n",
              "2   176559  Bose SoundSport Headphones  ...    22        Boston\n",
              "3   176560                Google Phone  ...    14   Los Angeles\n",
              "4   176560            Wired Headphones  ...    14   Los Angeles\n",
              "5   176561            Wired Headphones  ...     9   Los Angeles\n",
              "\n",
              "[5 rows x 11 columns]"
            ]
          },
          "metadata": {
            "tags": []
          },
          "execution_count": 28
        }
      ]
    },
    {
      "cell_type": "code",
      "metadata": {
        "colab": {
          "base_uri": "https://localhost:8080/",
          "height": 289
        },
        "id": "ERz3bBSDNBIn",
        "outputId": "b8f01836-e413-4425-dfc2-60b531e19be6"
      },
      "source": [
        "#creating a state column\n",
        "df['state'] = df['purchase_address'].apply(lambda x: x.split(',')[2].split(' ')[1]) #splitting twice, first to obtain the state+zip code, then splitting again to get rid of the zip code\n",
        "df.head()"
      ],
      "execution_count": 29,
      "outputs": [
        {
          "output_type": "execute_result",
          "data": {
            "text/html": [
              "<div>\n",
              "<style scoped>\n",
              "    .dataframe tbody tr th:only-of-type {\n",
              "        vertical-align: middle;\n",
              "    }\n",
              "\n",
              "    .dataframe tbody tr th {\n",
              "        vertical-align: top;\n",
              "    }\n",
              "\n",
              "    .dataframe thead th {\n",
              "        text-align: right;\n",
              "    }\n",
              "</style>\n",
              "<table border=\"1\" class=\"dataframe\">\n",
              "  <thead>\n",
              "    <tr style=\"text-align: right;\">\n",
              "      <th></th>\n",
              "      <th>order_id</th>\n",
              "      <th>product</th>\n",
              "      <th>quantity_ordered</th>\n",
              "      <th>price_each</th>\n",
              "      <th>order_date</th>\n",
              "      <th>purchase_address</th>\n",
              "      <th>month</th>\n",
              "      <th>day_of_week</th>\n",
              "      <th>sales</th>\n",
              "      <th>hour</th>\n",
              "      <th>city</th>\n",
              "      <th>state</th>\n",
              "    </tr>\n",
              "  </thead>\n",
              "  <tbody>\n",
              "    <tr>\n",
              "      <th>0</th>\n",
              "      <td>176558</td>\n",
              "      <td>USB-C Charging Cable</td>\n",
              "      <td>2</td>\n",
              "      <td>11.95</td>\n",
              "      <td>2019-04-19 08:46:00</td>\n",
              "      <td>917 1st St, Dallas, TX 75001</td>\n",
              "      <td>4</td>\n",
              "      <td>4</td>\n",
              "      <td>23.90</td>\n",
              "      <td>8</td>\n",
              "      <td>Dallas</td>\n",
              "      <td>TX</td>\n",
              "    </tr>\n",
              "    <tr>\n",
              "      <th>2</th>\n",
              "      <td>176559</td>\n",
              "      <td>Bose SoundSport Headphones</td>\n",
              "      <td>1</td>\n",
              "      <td>99.99</td>\n",
              "      <td>2019-04-07 22:30:00</td>\n",
              "      <td>682 Chestnut St, Boston, MA 02215</td>\n",
              "      <td>4</td>\n",
              "      <td>6</td>\n",
              "      <td>99.99</td>\n",
              "      <td>22</td>\n",
              "      <td>Boston</td>\n",
              "      <td>MA</td>\n",
              "    </tr>\n",
              "    <tr>\n",
              "      <th>3</th>\n",
              "      <td>176560</td>\n",
              "      <td>Google Phone</td>\n",
              "      <td>1</td>\n",
              "      <td>600.00</td>\n",
              "      <td>2019-04-12 14:38:00</td>\n",
              "      <td>669 Spruce St, Los Angeles, CA 90001</td>\n",
              "      <td>4</td>\n",
              "      <td>4</td>\n",
              "      <td>600.00</td>\n",
              "      <td>14</td>\n",
              "      <td>Los Angeles</td>\n",
              "      <td>CA</td>\n",
              "    </tr>\n",
              "    <tr>\n",
              "      <th>4</th>\n",
              "      <td>176560</td>\n",
              "      <td>Wired Headphones</td>\n",
              "      <td>1</td>\n",
              "      <td>11.99</td>\n",
              "      <td>2019-04-12 14:38:00</td>\n",
              "      <td>669 Spruce St, Los Angeles, CA 90001</td>\n",
              "      <td>4</td>\n",
              "      <td>4</td>\n",
              "      <td>11.99</td>\n",
              "      <td>14</td>\n",
              "      <td>Los Angeles</td>\n",
              "      <td>CA</td>\n",
              "    </tr>\n",
              "    <tr>\n",
              "      <th>5</th>\n",
              "      <td>176561</td>\n",
              "      <td>Wired Headphones</td>\n",
              "      <td>1</td>\n",
              "      <td>11.99</td>\n",
              "      <td>2019-04-30 09:27:00</td>\n",
              "      <td>333 8th St, Los Angeles, CA 90001</td>\n",
              "      <td>4</td>\n",
              "      <td>1</td>\n",
              "      <td>11.99</td>\n",
              "      <td>9</td>\n",
              "      <td>Los Angeles</td>\n",
              "      <td>CA</td>\n",
              "    </tr>\n",
              "  </tbody>\n",
              "</table>\n",
              "</div>"
            ],
            "text/plain": [
              "  order_id                     product  ...          city  state\n",
              "0   176558        USB-C Charging Cable  ...        Dallas     TX\n",
              "2   176559  Bose SoundSport Headphones  ...        Boston     MA\n",
              "3   176560                Google Phone  ...   Los Angeles     CA\n",
              "4   176560            Wired Headphones  ...   Los Angeles     CA\n",
              "5   176561            Wired Headphones  ...   Los Angeles     CA\n",
              "\n",
              "[5 rows x 12 columns]"
            ]
          },
          "metadata": {
            "tags": []
          },
          "execution_count": 29
        }
      ]
    },
    {
      "cell_type": "code",
      "metadata": {
        "colab": {
          "base_uri": "https://localhost:8080/",
          "height": 289
        },
        "id": "RwDz86qBOgU0",
        "outputId": "b461a729-a90b-4087-9377-9e9259cb4792"
      },
      "source": [
        "#creating a city_state column\n",
        "df['city_state'] = df['city']+', '+df['state']\n",
        "df.head()"
      ],
      "execution_count": 30,
      "outputs": [
        {
          "output_type": "execute_result",
          "data": {
            "text/html": [
              "<div>\n",
              "<style scoped>\n",
              "    .dataframe tbody tr th:only-of-type {\n",
              "        vertical-align: middle;\n",
              "    }\n",
              "\n",
              "    .dataframe tbody tr th {\n",
              "        vertical-align: top;\n",
              "    }\n",
              "\n",
              "    .dataframe thead th {\n",
              "        text-align: right;\n",
              "    }\n",
              "</style>\n",
              "<table border=\"1\" class=\"dataframe\">\n",
              "  <thead>\n",
              "    <tr style=\"text-align: right;\">\n",
              "      <th></th>\n",
              "      <th>order_id</th>\n",
              "      <th>product</th>\n",
              "      <th>quantity_ordered</th>\n",
              "      <th>price_each</th>\n",
              "      <th>order_date</th>\n",
              "      <th>purchase_address</th>\n",
              "      <th>month</th>\n",
              "      <th>day_of_week</th>\n",
              "      <th>sales</th>\n",
              "      <th>hour</th>\n",
              "      <th>city</th>\n",
              "      <th>state</th>\n",
              "      <th>city_state</th>\n",
              "    </tr>\n",
              "  </thead>\n",
              "  <tbody>\n",
              "    <tr>\n",
              "      <th>0</th>\n",
              "      <td>176558</td>\n",
              "      <td>USB-C Charging Cable</td>\n",
              "      <td>2</td>\n",
              "      <td>11.95</td>\n",
              "      <td>2019-04-19 08:46:00</td>\n",
              "      <td>917 1st St, Dallas, TX 75001</td>\n",
              "      <td>4</td>\n",
              "      <td>4</td>\n",
              "      <td>23.90</td>\n",
              "      <td>8</td>\n",
              "      <td>Dallas</td>\n",
              "      <td>TX</td>\n",
              "      <td>Dallas, TX</td>\n",
              "    </tr>\n",
              "    <tr>\n",
              "      <th>2</th>\n",
              "      <td>176559</td>\n",
              "      <td>Bose SoundSport Headphones</td>\n",
              "      <td>1</td>\n",
              "      <td>99.99</td>\n",
              "      <td>2019-04-07 22:30:00</td>\n",
              "      <td>682 Chestnut St, Boston, MA 02215</td>\n",
              "      <td>4</td>\n",
              "      <td>6</td>\n",
              "      <td>99.99</td>\n",
              "      <td>22</td>\n",
              "      <td>Boston</td>\n",
              "      <td>MA</td>\n",
              "      <td>Boston, MA</td>\n",
              "    </tr>\n",
              "    <tr>\n",
              "      <th>3</th>\n",
              "      <td>176560</td>\n",
              "      <td>Google Phone</td>\n",
              "      <td>1</td>\n",
              "      <td>600.00</td>\n",
              "      <td>2019-04-12 14:38:00</td>\n",
              "      <td>669 Spruce St, Los Angeles, CA 90001</td>\n",
              "      <td>4</td>\n",
              "      <td>4</td>\n",
              "      <td>600.00</td>\n",
              "      <td>14</td>\n",
              "      <td>Los Angeles</td>\n",
              "      <td>CA</td>\n",
              "      <td>Los Angeles, CA</td>\n",
              "    </tr>\n",
              "    <tr>\n",
              "      <th>4</th>\n",
              "      <td>176560</td>\n",
              "      <td>Wired Headphones</td>\n",
              "      <td>1</td>\n",
              "      <td>11.99</td>\n",
              "      <td>2019-04-12 14:38:00</td>\n",
              "      <td>669 Spruce St, Los Angeles, CA 90001</td>\n",
              "      <td>4</td>\n",
              "      <td>4</td>\n",
              "      <td>11.99</td>\n",
              "      <td>14</td>\n",
              "      <td>Los Angeles</td>\n",
              "      <td>CA</td>\n",
              "      <td>Los Angeles, CA</td>\n",
              "    </tr>\n",
              "    <tr>\n",
              "      <th>5</th>\n",
              "      <td>176561</td>\n",
              "      <td>Wired Headphones</td>\n",
              "      <td>1</td>\n",
              "      <td>11.99</td>\n",
              "      <td>2019-04-30 09:27:00</td>\n",
              "      <td>333 8th St, Los Angeles, CA 90001</td>\n",
              "      <td>4</td>\n",
              "      <td>1</td>\n",
              "      <td>11.99</td>\n",
              "      <td>9</td>\n",
              "      <td>Los Angeles</td>\n",
              "      <td>CA</td>\n",
              "      <td>Los Angeles, CA</td>\n",
              "    </tr>\n",
              "  </tbody>\n",
              "</table>\n",
              "</div>"
            ],
            "text/plain": [
              "  order_id                     product  ...  state        city_state\n",
              "0   176558        USB-C Charging Cable  ...     TX        Dallas, TX\n",
              "2   176559  Bose SoundSport Headphones  ...     MA        Boston, MA\n",
              "3   176560                Google Phone  ...     CA   Los Angeles, CA\n",
              "4   176560            Wired Headphones  ...     CA   Los Angeles, CA\n",
              "5   176561            Wired Headphones  ...     CA   Los Angeles, CA\n",
              "\n",
              "[5 rows x 13 columns]"
            ]
          },
          "metadata": {
            "tags": []
          },
          "execution_count": 30
        }
      ]
    },
    {
      "cell_type": "code",
      "metadata": {
        "colab": {
          "base_uri": "https://localhost:8080/"
        },
        "id": "T4bVotWjQbW9",
        "outputId": "22adc78b-56d7-4190-c7bc-c63e1e249bf3"
      },
      "source": [
        "df['city_state'].value_counts()"
      ],
      "execution_count": 31,
      "outputs": [
        {
          "output_type": "execute_result",
          "data": {
            "text/plain": [
              " San Francisco, CA    44732\n",
              " Los Angeles, CA      29605\n",
              " New York City, NY    24876\n",
              " Boston, MA           19934\n",
              " Atlanta, GA          14881\n",
              " Dallas, TX           14820\n",
              " Seattle, WA          14732\n",
              " Portland, OR         10010\n",
              " Austin, TX            9905\n",
              " Portland, ME          2455\n",
              "Name: city_state, dtype: int64"
            ]
          },
          "metadata": {
            "tags": []
          },
          "execution_count": 31
        }
      ]
    },
    {
      "cell_type": "code",
      "metadata": {
        "colab": {
          "base_uri": "https://localhost:8080/",
          "height": 390
        },
        "id": "8Zi7v769Pk_Y",
        "outputId": "bc7d4656-b676-4d44-da09-2e886f4d149d"
      },
      "source": [
        "#what's the city that sold the most?\n",
        "city_rev = df.groupby('city_state').agg({'sales':'sum', 'order_id':'count'})\n",
        "city_rev.sort_values('sales', ascending=False) #sf takes the crown in both sales and amount of orders"
      ],
      "execution_count": 32,
      "outputs": [
        {
          "output_type": "execute_result",
          "data": {
            "text/html": [
              "<div>\n",
              "<style scoped>\n",
              "    .dataframe tbody tr th:only-of-type {\n",
              "        vertical-align: middle;\n",
              "    }\n",
              "\n",
              "    .dataframe tbody tr th {\n",
              "        vertical-align: top;\n",
              "    }\n",
              "\n",
              "    .dataframe thead th {\n",
              "        text-align: right;\n",
              "    }\n",
              "</style>\n",
              "<table border=\"1\" class=\"dataframe\">\n",
              "  <thead>\n",
              "    <tr style=\"text-align: right;\">\n",
              "      <th></th>\n",
              "      <th>sales</th>\n",
              "      <th>order_id</th>\n",
              "    </tr>\n",
              "    <tr>\n",
              "      <th>city_state</th>\n",
              "      <th></th>\n",
              "      <th></th>\n",
              "    </tr>\n",
              "  </thead>\n",
              "  <tbody>\n",
              "    <tr>\n",
              "      <th>San Francisco, CA</th>\n",
              "      <td>8,262,203.91</td>\n",
              "      <td>44732</td>\n",
              "    </tr>\n",
              "    <tr>\n",
              "      <th>Los Angeles, CA</th>\n",
              "      <td>5,452,570.80</td>\n",
              "      <td>29605</td>\n",
              "    </tr>\n",
              "    <tr>\n",
              "      <th>New York City, NY</th>\n",
              "      <td>4,664,317.43</td>\n",
              "      <td>24876</td>\n",
              "    </tr>\n",
              "    <tr>\n",
              "      <th>Boston, MA</th>\n",
              "      <td>3,661,642.01</td>\n",
              "      <td>19934</td>\n",
              "    </tr>\n",
              "    <tr>\n",
              "      <th>Atlanta, GA</th>\n",
              "      <td>2,795,498.58</td>\n",
              "      <td>14881</td>\n",
              "    </tr>\n",
              "    <tr>\n",
              "      <th>Dallas, TX</th>\n",
              "      <td>2,767,975.40</td>\n",
              "      <td>14820</td>\n",
              "    </tr>\n",
              "    <tr>\n",
              "      <th>Seattle, WA</th>\n",
              "      <td>2,747,755.48</td>\n",
              "      <td>14732</td>\n",
              "    </tr>\n",
              "    <tr>\n",
              "      <th>Portland, OR</th>\n",
              "      <td>1,870,732.34</td>\n",
              "      <td>10010</td>\n",
              "    </tr>\n",
              "    <tr>\n",
              "      <th>Austin, TX</th>\n",
              "      <td>1,819,581.75</td>\n",
              "      <td>9905</td>\n",
              "    </tr>\n",
              "    <tr>\n",
              "      <th>Portland, ME</th>\n",
              "      <td>449,758.27</td>\n",
              "      <td>2455</td>\n",
              "    </tr>\n",
              "  </tbody>\n",
              "</table>\n",
              "</div>"
            ],
            "text/plain": [
              "                          sales  order_id\n",
              "city_state                               \n",
              " San Francisco, CA 8,262,203.91     44732\n",
              " Los Angeles, CA   5,452,570.80     29605\n",
              " New York City, NY 4,664,317.43     24876\n",
              " Boston, MA        3,661,642.01     19934\n",
              " Atlanta, GA       2,795,498.58     14881\n",
              " Dallas, TX        2,767,975.40     14820\n",
              " Seattle, WA       2,747,755.48     14732\n",
              " Portland, OR      1,870,732.34     10010\n",
              " Austin, TX        1,819,581.75      9905\n",
              " Portland, ME        449,758.27      2455"
            ]
          },
          "metadata": {
            "tags": []
          },
          "execution_count": 32
        }
      ]
    },
    {
      "cell_type": "code",
      "metadata": {
        "colab": {
          "base_uri": "https://localhost:8080/"
        },
        "id": "gzxoLLLkQX7v",
        "outputId": "c91efa6c-806c-4eea-d8d7-d8a7f9399aa8"
      },
      "source": [
        "#in terms of quantity, whats the contribution (%) of every city to our revenue?\n",
        "df['city_state'].value_counts(normalize=True)"
      ],
      "execution_count": 33,
      "outputs": [
        {
          "output_type": "execute_result",
          "data": {
            "text/plain": [
              " San Francisco, CA   0.24\n",
              " Los Angeles, CA     0.16\n",
              " New York City, NY   0.13\n",
              " Boston, MA          0.11\n",
              " Atlanta, GA         0.08\n",
              " Dallas, TX          0.08\n",
              " Seattle, WA         0.08\n",
              " Portland, OR        0.05\n",
              " Austin, TX          0.05\n",
              " Portland, ME        0.01\n",
              "Name: city_state, dtype: float64"
            ]
          },
          "metadata": {
            "tags": []
          },
          "execution_count": 33
        }
      ]
    },
    {
      "cell_type": "code",
      "metadata": {
        "colab": {
          "base_uri": "https://localhost:8080/",
          "height": 390
        },
        "id": "ipOE3C0aRIue",
        "outputId": "96627bb3-1ec6-4f9c-fcac-7e26e20ea791"
      },
      "source": [
        "#calculating the avg ticket spent by city\n",
        "city_rev['avg_ticket'] = city_rev['sales']/city_rev['order_id']\n",
        "city_rev.sort_values('avg_ticket', ascending=False) #even though san francisco has the most sales, we can see that atlanta has the highest avg. ticket (not by a lot...)"
      ],
      "execution_count": 34,
      "outputs": [
        {
          "output_type": "execute_result",
          "data": {
            "text/html": [
              "<div>\n",
              "<style scoped>\n",
              "    .dataframe tbody tr th:only-of-type {\n",
              "        vertical-align: middle;\n",
              "    }\n",
              "\n",
              "    .dataframe tbody tr th {\n",
              "        vertical-align: top;\n",
              "    }\n",
              "\n",
              "    .dataframe thead th {\n",
              "        text-align: right;\n",
              "    }\n",
              "</style>\n",
              "<table border=\"1\" class=\"dataframe\">\n",
              "  <thead>\n",
              "    <tr style=\"text-align: right;\">\n",
              "      <th></th>\n",
              "      <th>sales</th>\n",
              "      <th>order_id</th>\n",
              "      <th>avg_ticket</th>\n",
              "    </tr>\n",
              "    <tr>\n",
              "      <th>city_state</th>\n",
              "      <th></th>\n",
              "      <th></th>\n",
              "      <th></th>\n",
              "    </tr>\n",
              "  </thead>\n",
              "  <tbody>\n",
              "    <tr>\n",
              "      <th>Atlanta, GA</th>\n",
              "      <td>2,795,498.58</td>\n",
              "      <td>14881</td>\n",
              "      <td>187.86</td>\n",
              "    </tr>\n",
              "    <tr>\n",
              "      <th>New York City, NY</th>\n",
              "      <td>4,664,317.43</td>\n",
              "      <td>24876</td>\n",
              "      <td>187.50</td>\n",
              "    </tr>\n",
              "    <tr>\n",
              "      <th>Portland, OR</th>\n",
              "      <td>1,870,732.34</td>\n",
              "      <td>10010</td>\n",
              "      <td>186.89</td>\n",
              "    </tr>\n",
              "    <tr>\n",
              "      <th>Dallas, TX</th>\n",
              "      <td>2,767,975.40</td>\n",
              "      <td>14820</td>\n",
              "      <td>186.77</td>\n",
              "    </tr>\n",
              "    <tr>\n",
              "      <th>Seattle, WA</th>\n",
              "      <td>2,747,755.48</td>\n",
              "      <td>14732</td>\n",
              "      <td>186.52</td>\n",
              "    </tr>\n",
              "    <tr>\n",
              "      <th>San Francisco, CA</th>\n",
              "      <td>8,262,203.91</td>\n",
              "      <td>44732</td>\n",
              "      <td>184.70</td>\n",
              "    </tr>\n",
              "    <tr>\n",
              "      <th>Los Angeles, CA</th>\n",
              "      <td>5,452,570.80</td>\n",
              "      <td>29605</td>\n",
              "      <td>184.18</td>\n",
              "    </tr>\n",
              "    <tr>\n",
              "      <th>Austin, TX</th>\n",
              "      <td>1,819,581.75</td>\n",
              "      <td>9905</td>\n",
              "      <td>183.70</td>\n",
              "    </tr>\n",
              "    <tr>\n",
              "      <th>Boston, MA</th>\n",
              "      <td>3,661,642.01</td>\n",
              "      <td>19934</td>\n",
              "      <td>183.69</td>\n",
              "    </tr>\n",
              "    <tr>\n",
              "      <th>Portland, ME</th>\n",
              "      <td>449,758.27</td>\n",
              "      <td>2455</td>\n",
              "      <td>183.20</td>\n",
              "    </tr>\n",
              "  </tbody>\n",
              "</table>\n",
              "</div>"
            ],
            "text/plain": [
              "                          sales  order_id  avg_ticket\n",
              "city_state                                           \n",
              " Atlanta, GA       2,795,498.58     14881      187.86\n",
              " New York City, NY 4,664,317.43     24876      187.50\n",
              " Portland, OR      1,870,732.34     10010      186.89\n",
              " Dallas, TX        2,767,975.40     14820      186.77\n",
              " Seattle, WA       2,747,755.48     14732      186.52\n",
              " San Francisco, CA 8,262,203.91     44732      184.70\n",
              " Los Angeles, CA   5,452,570.80     29605      184.18\n",
              " Austin, TX        1,819,581.75      9905      183.70\n",
              " Boston, MA        3,661,642.01     19934      183.69\n",
              " Portland, ME        449,758.27      2455      183.20"
            ]
          },
          "metadata": {
            "tags": []
          },
          "execution_count": 34
        }
      ]
    },
    {
      "cell_type": "code",
      "metadata": {
        "colab": {
          "base_uri": "https://localhost:8080/",
          "height": 289
        },
        "id": "Ad2F4XOXUdGQ",
        "outputId": "bd0b1f3a-e0ec-4d7a-ee1f-390ced5a90ad"
      },
      "source": [
        "#what products were sold the most together?\n",
        "## getting a df with just the order_id that appear more than once\n",
        "\n",
        "df1 = df[df['order_id'].duplicated(keep=False)]\n",
        "df1.head()"
      ],
      "execution_count": 35,
      "outputs": [
        {
          "output_type": "execute_result",
          "data": {
            "text/html": [
              "<div>\n",
              "<style scoped>\n",
              "    .dataframe tbody tr th:only-of-type {\n",
              "        vertical-align: middle;\n",
              "    }\n",
              "\n",
              "    .dataframe tbody tr th {\n",
              "        vertical-align: top;\n",
              "    }\n",
              "\n",
              "    .dataframe thead th {\n",
              "        text-align: right;\n",
              "    }\n",
              "</style>\n",
              "<table border=\"1\" class=\"dataframe\">\n",
              "  <thead>\n",
              "    <tr style=\"text-align: right;\">\n",
              "      <th></th>\n",
              "      <th>order_id</th>\n",
              "      <th>product</th>\n",
              "      <th>quantity_ordered</th>\n",
              "      <th>price_each</th>\n",
              "      <th>order_date</th>\n",
              "      <th>purchase_address</th>\n",
              "      <th>month</th>\n",
              "      <th>day_of_week</th>\n",
              "      <th>sales</th>\n",
              "      <th>hour</th>\n",
              "      <th>city</th>\n",
              "      <th>state</th>\n",
              "      <th>city_state</th>\n",
              "    </tr>\n",
              "  </thead>\n",
              "  <tbody>\n",
              "    <tr>\n",
              "      <th>3</th>\n",
              "      <td>176560</td>\n",
              "      <td>Google Phone</td>\n",
              "      <td>1</td>\n",
              "      <td>600.00</td>\n",
              "      <td>2019-04-12 14:38:00</td>\n",
              "      <td>669 Spruce St, Los Angeles, CA 90001</td>\n",
              "      <td>4</td>\n",
              "      <td>4</td>\n",
              "      <td>600.00</td>\n",
              "      <td>14</td>\n",
              "      <td>Los Angeles</td>\n",
              "      <td>CA</td>\n",
              "      <td>Los Angeles, CA</td>\n",
              "    </tr>\n",
              "    <tr>\n",
              "      <th>4</th>\n",
              "      <td>176560</td>\n",
              "      <td>Wired Headphones</td>\n",
              "      <td>1</td>\n",
              "      <td>11.99</td>\n",
              "      <td>2019-04-12 14:38:00</td>\n",
              "      <td>669 Spruce St, Los Angeles, CA 90001</td>\n",
              "      <td>4</td>\n",
              "      <td>4</td>\n",
              "      <td>11.99</td>\n",
              "      <td>14</td>\n",
              "      <td>Los Angeles</td>\n",
              "      <td>CA</td>\n",
              "      <td>Los Angeles, CA</td>\n",
              "    </tr>\n",
              "    <tr>\n",
              "      <th>18</th>\n",
              "      <td>176574</td>\n",
              "      <td>Google Phone</td>\n",
              "      <td>1</td>\n",
              "      <td>600.00</td>\n",
              "      <td>2019-04-03 19:42:00</td>\n",
              "      <td>20 Hill St, Los Angeles, CA 90001</td>\n",
              "      <td>4</td>\n",
              "      <td>2</td>\n",
              "      <td>600.00</td>\n",
              "      <td>19</td>\n",
              "      <td>Los Angeles</td>\n",
              "      <td>CA</td>\n",
              "      <td>Los Angeles, CA</td>\n",
              "    </tr>\n",
              "    <tr>\n",
              "      <th>19</th>\n",
              "      <td>176574</td>\n",
              "      <td>USB-C Charging Cable</td>\n",
              "      <td>1</td>\n",
              "      <td>11.95</td>\n",
              "      <td>2019-04-03 19:42:00</td>\n",
              "      <td>20 Hill St, Los Angeles, CA 90001</td>\n",
              "      <td>4</td>\n",
              "      <td>2</td>\n",
              "      <td>11.95</td>\n",
              "      <td>19</td>\n",
              "      <td>Los Angeles</td>\n",
              "      <td>CA</td>\n",
              "      <td>Los Angeles, CA</td>\n",
              "    </tr>\n",
              "    <tr>\n",
              "      <th>30</th>\n",
              "      <td>176585</td>\n",
              "      <td>Bose SoundSport Headphones</td>\n",
              "      <td>1</td>\n",
              "      <td>99.99</td>\n",
              "      <td>2019-04-07 11:31:00</td>\n",
              "      <td>823 Highland St, Boston, MA 02215</td>\n",
              "      <td>4</td>\n",
              "      <td>6</td>\n",
              "      <td>99.99</td>\n",
              "      <td>11</td>\n",
              "      <td>Boston</td>\n",
              "      <td>MA</td>\n",
              "      <td>Boston, MA</td>\n",
              "    </tr>\n",
              "  </tbody>\n",
              "</table>\n",
              "</div>"
            ],
            "text/plain": [
              "   order_id                     product  ...  state        city_state\n",
              "3    176560                Google Phone  ...     CA   Los Angeles, CA\n",
              "4    176560            Wired Headphones  ...     CA   Los Angeles, CA\n",
              "18   176574                Google Phone  ...     CA   Los Angeles, CA\n",
              "19   176574        USB-C Charging Cable  ...     CA   Los Angeles, CA\n",
              "30   176585  Bose SoundSport Headphones  ...     MA        Boston, MA\n",
              "\n",
              "[5 rows x 13 columns]"
            ]
          },
          "metadata": {
            "tags": []
          },
          "execution_count": 35
        }
      ]
    },
    {
      "cell_type": "code",
      "metadata": {
        "colab": {
          "base_uri": "https://localhost:8080/",
          "height": 527
        },
        "id": "xBhmQ_CaXIBk",
        "outputId": "734f28fe-e606-46b4-cac4-da6703500e1e"
      },
      "source": [
        "df1['every_product'] = df1.groupby('order_id')['product'].transform(lambda x: ', '.join(x))\n",
        "df1.head() #as we can see, this results in having \"duplicated\" orders, like order_id 176560 appears twice, so we should drop that"
      ],
      "execution_count": 36,
      "outputs": [
        {
          "output_type": "stream",
          "text": [
            "/usr/local/lib/python3.7/dist-packages/ipykernel_launcher.py:1: SettingWithCopyWarning: \n",
            "A value is trying to be set on a copy of a slice from a DataFrame.\n",
            "Try using .loc[row_indexer,col_indexer] = value instead\n",
            "\n",
            "See the caveats in the documentation: https://pandas.pydata.org/pandas-docs/stable/user_guide/indexing.html#returning-a-view-versus-a-copy\n",
            "  \"\"\"Entry point for launching an IPython kernel.\n"
          ],
          "name": "stderr"
        },
        {
          "output_type": "execute_result",
          "data": {
            "text/html": [
              "<div>\n",
              "<style scoped>\n",
              "    .dataframe tbody tr th:only-of-type {\n",
              "        vertical-align: middle;\n",
              "    }\n",
              "\n",
              "    .dataframe tbody tr th {\n",
              "        vertical-align: top;\n",
              "    }\n",
              "\n",
              "    .dataframe thead th {\n",
              "        text-align: right;\n",
              "    }\n",
              "</style>\n",
              "<table border=\"1\" class=\"dataframe\">\n",
              "  <thead>\n",
              "    <tr style=\"text-align: right;\">\n",
              "      <th></th>\n",
              "      <th>order_id</th>\n",
              "      <th>product</th>\n",
              "      <th>quantity_ordered</th>\n",
              "      <th>price_each</th>\n",
              "      <th>order_date</th>\n",
              "      <th>purchase_address</th>\n",
              "      <th>month</th>\n",
              "      <th>day_of_week</th>\n",
              "      <th>sales</th>\n",
              "      <th>hour</th>\n",
              "      <th>city</th>\n",
              "      <th>state</th>\n",
              "      <th>city_state</th>\n",
              "      <th>every_product</th>\n",
              "    </tr>\n",
              "  </thead>\n",
              "  <tbody>\n",
              "    <tr>\n",
              "      <th>3</th>\n",
              "      <td>176560</td>\n",
              "      <td>Google Phone</td>\n",
              "      <td>1</td>\n",
              "      <td>600.00</td>\n",
              "      <td>2019-04-12 14:38:00</td>\n",
              "      <td>669 Spruce St, Los Angeles, CA 90001</td>\n",
              "      <td>4</td>\n",
              "      <td>4</td>\n",
              "      <td>600.00</td>\n",
              "      <td>14</td>\n",
              "      <td>Los Angeles</td>\n",
              "      <td>CA</td>\n",
              "      <td>Los Angeles, CA</td>\n",
              "      <td>Google Phone, Wired Headphones</td>\n",
              "    </tr>\n",
              "    <tr>\n",
              "      <th>4</th>\n",
              "      <td>176560</td>\n",
              "      <td>Wired Headphones</td>\n",
              "      <td>1</td>\n",
              "      <td>11.99</td>\n",
              "      <td>2019-04-12 14:38:00</td>\n",
              "      <td>669 Spruce St, Los Angeles, CA 90001</td>\n",
              "      <td>4</td>\n",
              "      <td>4</td>\n",
              "      <td>11.99</td>\n",
              "      <td>14</td>\n",
              "      <td>Los Angeles</td>\n",
              "      <td>CA</td>\n",
              "      <td>Los Angeles, CA</td>\n",
              "      <td>Google Phone, Wired Headphones</td>\n",
              "    </tr>\n",
              "    <tr>\n",
              "      <th>18</th>\n",
              "      <td>176574</td>\n",
              "      <td>Google Phone</td>\n",
              "      <td>1</td>\n",
              "      <td>600.00</td>\n",
              "      <td>2019-04-03 19:42:00</td>\n",
              "      <td>20 Hill St, Los Angeles, CA 90001</td>\n",
              "      <td>4</td>\n",
              "      <td>2</td>\n",
              "      <td>600.00</td>\n",
              "      <td>19</td>\n",
              "      <td>Los Angeles</td>\n",
              "      <td>CA</td>\n",
              "      <td>Los Angeles, CA</td>\n",
              "      <td>Google Phone, USB-C Charging Cable</td>\n",
              "    </tr>\n",
              "    <tr>\n",
              "      <th>19</th>\n",
              "      <td>176574</td>\n",
              "      <td>USB-C Charging Cable</td>\n",
              "      <td>1</td>\n",
              "      <td>11.95</td>\n",
              "      <td>2019-04-03 19:42:00</td>\n",
              "      <td>20 Hill St, Los Angeles, CA 90001</td>\n",
              "      <td>4</td>\n",
              "      <td>2</td>\n",
              "      <td>11.95</td>\n",
              "      <td>19</td>\n",
              "      <td>Los Angeles</td>\n",
              "      <td>CA</td>\n",
              "      <td>Los Angeles, CA</td>\n",
              "      <td>Google Phone, USB-C Charging Cable</td>\n",
              "    </tr>\n",
              "    <tr>\n",
              "      <th>30</th>\n",
              "      <td>176585</td>\n",
              "      <td>Bose SoundSport Headphones</td>\n",
              "      <td>1</td>\n",
              "      <td>99.99</td>\n",
              "      <td>2019-04-07 11:31:00</td>\n",
              "      <td>823 Highland St, Boston, MA 02215</td>\n",
              "      <td>4</td>\n",
              "      <td>6</td>\n",
              "      <td>99.99</td>\n",
              "      <td>11</td>\n",
              "      <td>Boston</td>\n",
              "      <td>MA</td>\n",
              "      <td>Boston, MA</td>\n",
              "      <td>Bose SoundSport Headphones, Bose SoundSport He...</td>\n",
              "    </tr>\n",
              "  </tbody>\n",
              "</table>\n",
              "</div>"
            ],
            "text/plain": [
              "   order_id  ...                                      every_product\n",
              "3    176560  ...                     Google Phone, Wired Headphones\n",
              "4    176560  ...                     Google Phone, Wired Headphones\n",
              "18   176574  ...                 Google Phone, USB-C Charging Cable\n",
              "19   176574  ...                 Google Phone, USB-C Charging Cable\n",
              "30   176585  ...  Bose SoundSport Headphones, Bose SoundSport He...\n",
              "\n",
              "[5 rows x 14 columns]"
            ]
          },
          "metadata": {
            "tags": []
          },
          "execution_count": 36
        }
      ]
    },
    {
      "cell_type": "code",
      "metadata": {
        "colab": {
          "base_uri": "https://localhost:8080/",
          "height": 204
        },
        "id": "Ui_54bpnX8Kj",
        "outputId": "1a39b7a3-1c76-4f79-a8e4-9b26b015aa3a"
      },
      "source": [
        "#getting rid of the duplicates\n",
        "df2 = df1[['order_id','every_product']].drop_duplicates()\n",
        "df2.head()"
      ],
      "execution_count": 37,
      "outputs": [
        {
          "output_type": "execute_result",
          "data": {
            "text/html": [
              "<div>\n",
              "<style scoped>\n",
              "    .dataframe tbody tr th:only-of-type {\n",
              "        vertical-align: middle;\n",
              "    }\n",
              "\n",
              "    .dataframe tbody tr th {\n",
              "        vertical-align: top;\n",
              "    }\n",
              "\n",
              "    .dataframe thead th {\n",
              "        text-align: right;\n",
              "    }\n",
              "</style>\n",
              "<table border=\"1\" class=\"dataframe\">\n",
              "  <thead>\n",
              "    <tr style=\"text-align: right;\">\n",
              "      <th></th>\n",
              "      <th>order_id</th>\n",
              "      <th>every_product</th>\n",
              "    </tr>\n",
              "  </thead>\n",
              "  <tbody>\n",
              "    <tr>\n",
              "      <th>3</th>\n",
              "      <td>176560</td>\n",
              "      <td>Google Phone, Wired Headphones</td>\n",
              "    </tr>\n",
              "    <tr>\n",
              "      <th>18</th>\n",
              "      <td>176574</td>\n",
              "      <td>Google Phone, USB-C Charging Cable</td>\n",
              "    </tr>\n",
              "    <tr>\n",
              "      <th>30</th>\n",
              "      <td>176585</td>\n",
              "      <td>Bose SoundSport Headphones, Bose SoundSport He...</td>\n",
              "    </tr>\n",
              "    <tr>\n",
              "      <th>32</th>\n",
              "      <td>176586</td>\n",
              "      <td>AAA Batteries (4-pack), Google Phone</td>\n",
              "    </tr>\n",
              "    <tr>\n",
              "      <th>119</th>\n",
              "      <td>176672</td>\n",
              "      <td>Lightning Charging Cable, USB-C Charging Cable</td>\n",
              "    </tr>\n",
              "  </tbody>\n",
              "</table>\n",
              "</div>"
            ],
            "text/plain": [
              "    order_id                                      every_product\n",
              "3     176560                     Google Phone, Wired Headphones\n",
              "18    176574                 Google Phone, USB-C Charging Cable\n",
              "30    176585  Bose SoundSport Headphones, Bose SoundSport He...\n",
              "32    176586               AAA Batteries (4-pack), Google Phone\n",
              "119   176672     Lightning Charging Cable, USB-C Charging Cable"
            ]
          },
          "metadata": {
            "tags": []
          },
          "execution_count": 37
        }
      ]
    },
    {
      "cell_type": "code",
      "metadata": {
        "colab": {
          "base_uri": "https://localhost:8080/"
        },
        "id": "7Wh0zM6nYqAR",
        "outputId": "98473b7f-f3a4-443e-f58b-afab29445a03"
      },
      "source": [
        "#top 20 combinations of products\n",
        "df2.value_counts('every_product').head(20)"
      ],
      "execution_count": 38,
      "outputs": [
        {
          "output_type": "execute_result",
          "data": {
            "text/plain": [
              "every_product\n",
              "iPhone, Lightning Charging Cable                        882\n",
              "Google Phone, USB-C Charging Cable                      856\n",
              "iPhone, Wired Headphones                                361\n",
              "Vareebadd Phone, USB-C Charging Cable                   312\n",
              "Google Phone, Wired Headphones                          303\n",
              "iPhone, Apple Airpods Headphones                        286\n",
              "Google Phone, Bose SoundSport Headphones                161\n",
              "Vareebadd Phone, Wired Headphones                       104\n",
              "Google Phone, USB-C Charging Cable, Wired Headphones     77\n",
              "Vareebadd Phone, Bose SoundSport Headphones              60\n",
              "iPhone, Lightning Charging Cable, Wired Headphones       56\n",
              "Lightning Charging Cable, USB-C Charging Cable           55\n",
              "Lightning Charging Cable, AA Batteries (4-pack)          52\n",
              "AA Batteries (4-pack), Lightning Charging Cable          51\n",
              "Lightning Charging Cable, Lightning Charging Cable       51\n",
              "AAA Batteries (4-pack), USB-C Charging Cable             50\n",
              "AA Batteries (4-pack), AAA Batteries (4-pack)            48\n",
              "AAA Batteries (4-pack), AAA Batteries (4-pack)           48\n",
              "USB-C Charging Cable, USB-C Charging Cable               46\n",
              "Apple Airpods Headphones, AAA Batteries (4-pack)         45\n",
              "dtype: int64"
            ]
          },
          "metadata": {
            "tags": []
          },
          "execution_count": 38
        }
      ]
    },
    {
      "cell_type": "code",
      "metadata": {
        "id": "I3kHMzP1YzkI",
        "colab": {
          "base_uri": "https://localhost:8080/",
          "height": 421
        },
        "outputId": "dd413569-2574-4bef-d0fa-0a791ac6377f"
      },
      "source": [
        "#now, let's see unique buyers by month, and since we don't have a customer id, let's use their address, so our code will actually tell us unique households\n",
        "\n",
        "monthly_active = df.groupby('month')['purchase_address'].nunique().reset_index()\n",
        "monthly_active['monthly_growth'] = monthly_active['purchase_address'].pct_change()\n",
        "monthly_active"
      ],
      "execution_count": 42,
      "outputs": [
        {
          "output_type": "execute_result",
          "data": {
            "text/html": [
              "<div>\n",
              "<style scoped>\n",
              "    .dataframe tbody tr th:only-of-type {\n",
              "        vertical-align: middle;\n",
              "    }\n",
              "\n",
              "    .dataframe tbody tr th {\n",
              "        vertical-align: top;\n",
              "    }\n",
              "\n",
              "    .dataframe thead th {\n",
              "        text-align: right;\n",
              "    }\n",
              "</style>\n",
              "<table border=\"1\" class=\"dataframe\">\n",
              "  <thead>\n",
              "    <tr style=\"text-align: right;\">\n",
              "      <th></th>\n",
              "      <th>month</th>\n",
              "      <th>purchase_address</th>\n",
              "      <th>monthly_growth</th>\n",
              "    </tr>\n",
              "  </thead>\n",
              "  <tbody>\n",
              "    <tr>\n",
              "      <th>0</th>\n",
              "      <td>1</td>\n",
              "      <td>9185</td>\n",
              "      <td>nan</td>\n",
              "    </tr>\n",
              "    <tr>\n",
              "      <th>1</th>\n",
              "      <td>2</td>\n",
              "      <td>11304</td>\n",
              "      <td>0.23</td>\n",
              "    </tr>\n",
              "    <tr>\n",
              "      <th>2</th>\n",
              "      <td>3</td>\n",
              "      <td>14245</td>\n",
              "      <td>0.26</td>\n",
              "    </tr>\n",
              "    <tr>\n",
              "      <th>3</th>\n",
              "      <td>4</td>\n",
              "      <td>17112</td>\n",
              "      <td>0.20</td>\n",
              "    </tr>\n",
              "    <tr>\n",
              "      <th>4</th>\n",
              "      <td>5</td>\n",
              "      <td>15471</td>\n",
              "      <td>-0.10</td>\n",
              "    </tr>\n",
              "    <tr>\n",
              "      <th>5</th>\n",
              "      <td>6</td>\n",
              "      <td>12720</td>\n",
              "      <td>-0.18</td>\n",
              "    </tr>\n",
              "    <tr>\n",
              "      <th>6</th>\n",
              "      <td>7</td>\n",
              "      <td>13473</td>\n",
              "      <td>0.06</td>\n",
              "    </tr>\n",
              "    <tr>\n",
              "      <th>7</th>\n",
              "      <td>8</td>\n",
              "      <td>11300</td>\n",
              "      <td>-0.16</td>\n",
              "    </tr>\n",
              "    <tr>\n",
              "      <th>8</th>\n",
              "      <td>9</td>\n",
              "      <td>11025</td>\n",
              "      <td>-0.02</td>\n",
              "    </tr>\n",
              "    <tr>\n",
              "      <th>9</th>\n",
              "      <td>10</td>\n",
              "      <td>18914</td>\n",
              "      <td>0.72</td>\n",
              "    </tr>\n",
              "    <tr>\n",
              "      <th>10</th>\n",
              "      <td>11</td>\n",
              "      <td>16484</td>\n",
              "      <td>-0.13</td>\n",
              "    </tr>\n",
              "    <tr>\n",
              "      <th>11</th>\n",
              "      <td>12</td>\n",
              "      <td>23213</td>\n",
              "      <td>0.41</td>\n",
              "    </tr>\n",
              "  </tbody>\n",
              "</table>\n",
              "</div>"
            ],
            "text/plain": [
              "    month  purchase_address  monthly_growth\n",
              "0       1              9185             nan\n",
              "1       2             11304            0.23\n",
              "2       3             14245            0.26\n",
              "3       4             17112            0.20\n",
              "4       5             15471           -0.10\n",
              "5       6             12720           -0.18\n",
              "6       7             13473            0.06\n",
              "7       8             11300           -0.16\n",
              "8       9             11025           -0.02\n",
              "9      10             18914            0.72\n",
              "10     11             16484           -0.13\n",
              "11     12             23213            0.41"
            ]
          },
          "metadata": {
            "tags": []
          },
          "execution_count": 42
        }
      ]
    },
    {
      "cell_type": "code",
      "metadata": {
        "colab": {
          "base_uri": "https://localhost:8080/",
          "height": 298
        },
        "id": "YIc2YwcZC_rq",
        "outputId": "cfe4d342-0ad9-4b68-dae8-9f6dc5329a8e"
      },
      "source": [
        "monthly_active['purchase_address'].plot().set_title('customer base growth', fontsize=13)"
      ],
      "execution_count": 43,
      "outputs": [
        {
          "output_type": "execute_result",
          "data": {
            "text/plain": [
              "Text(0.5, 1.0, 'customer base growth')"
            ]
          },
          "metadata": {
            "tags": []
          },
          "execution_count": 43
        },
        {
          "output_type": "display_data",
          "data": {
            "image/png": "[encoded data removed]",
            "text/plain": [
              "<Figure size 432x288 with 1 Axes>"
            ]
          },
          "metadata": {
            "tags": [],
            "needs_background": "light"
          }
        }
      ]
    },
    {
      "cell_type": "code",
      "metadata": {
        "colab": {
          "base_uri": "https://localhost:8080/",
          "height": 421
        },
        "id": "1T4MK0pLDJLG",
        "outputId": "dec09af6-3852-4f7f-bb5c-8a840ff427dc"
      },
      "source": [
        "#by merging monthly_rev and monthly_active, we can see if our monthly sales per household (gonna call it 'sph') has grown\n",
        "sph = pd.merge(monthly_rev, monthly_active, on='month',how='inner')\n",
        "\n",
        "del sph['monthly_growth_x'] #deleting column that we don't need\n",
        "del sph['monthly_growth_y'] #deleting column that we don't need\n",
        "\n",
        "sph['sales_per_household'] = sph['sales']/sph['purchase_address']\n",
        "sph['sales_per_household_growth'] = sph['sales_per_household'].pct_change()\n",
        "sph"
      ],
      "execution_count": 44,
      "outputs": [
        {
          "output_type": "execute_result",
          "data": {
            "text/html": [
              "<div>\n",
              "<style scoped>\n",
              "    .dataframe tbody tr th:only-of-type {\n",
              "        vertical-align: middle;\n",
              "    }\n",
              "\n",
              "    .dataframe tbody tr th {\n",
              "        vertical-align: top;\n",
              "    }\n",
              "\n",
              "    .dataframe thead th {\n",
              "        text-align: right;\n",
              "    }\n",
              "</style>\n",
              "<table border=\"1\" class=\"dataframe\">\n",
              "  <thead>\n",
              "    <tr style=\"text-align: right;\">\n",
              "      <th></th>\n",
              "      <th>month</th>\n",
              "      <th>sales</th>\n",
              "      <th>purchase_address</th>\n",
              "      <th>sales_per_household</th>\n",
              "      <th>sales_per_household_growth</th>\n",
              "    </tr>\n",
              "  </thead>\n",
              "  <tbody>\n",
              "    <tr>\n",
              "      <th>0</th>\n",
              "      <td>1</td>\n",
              "      <td>1,822,256.73</td>\n",
              "      <td>9185</td>\n",
              "      <td>198.39</td>\n",
              "      <td>nan</td>\n",
              "    </tr>\n",
              "    <tr>\n",
              "      <th>1</th>\n",
              "      <td>2</td>\n",
              "      <td>2,202,022.42</td>\n",
              "      <td>11304</td>\n",
              "      <td>194.80</td>\n",
              "      <td>-0.02</td>\n",
              "    </tr>\n",
              "    <tr>\n",
              "      <th>2</th>\n",
              "      <td>3</td>\n",
              "      <td>2,807,100.38</td>\n",
              "      <td>14245</td>\n",
              "      <td>197.06</td>\n",
              "      <td>0.01</td>\n",
              "    </tr>\n",
              "    <tr>\n",
              "      <th>3</th>\n",
              "      <td>4</td>\n",
              "      <td>3,390,670.24</td>\n",
              "      <td>17112</td>\n",
              "      <td>198.15</td>\n",
              "      <td>0.01</td>\n",
              "    </tr>\n",
              "    <tr>\n",
              "      <th>4</th>\n",
              "      <td>5</td>\n",
              "      <td>3,152,606.75</td>\n",
              "      <td>15471</td>\n",
              "      <td>203.78</td>\n",
              "      <td>0.03</td>\n",
              "    </tr>\n",
              "    <tr>\n",
              "      <th>5</th>\n",
              "      <td>6</td>\n",
              "      <td>2,577,802.26</td>\n",
              "      <td>12720</td>\n",
              "      <td>202.66</td>\n",
              "      <td>-0.01</td>\n",
              "    </tr>\n",
              "    <tr>\n",
              "      <th>6</th>\n",
              "      <td>7</td>\n",
              "      <td>2,647,775.76</td>\n",
              "      <td>13473</td>\n",
              "      <td>196.52</td>\n",
              "      <td>-0.03</td>\n",
              "    </tr>\n",
              "    <tr>\n",
              "      <th>7</th>\n",
              "      <td>8</td>\n",
              "      <td>2,244,467.88</td>\n",
              "      <td>11300</td>\n",
              "      <td>198.63</td>\n",
              "      <td>0.01</td>\n",
              "    </tr>\n",
              "    <tr>\n",
              "      <th>8</th>\n",
              "      <td>9</td>\n",
              "      <td>2,097,560.13</td>\n",
              "      <td>11025</td>\n",
              "      <td>190.25</td>\n",
              "      <td>-0.04</td>\n",
              "    </tr>\n",
              "    <tr>\n",
              "      <th>9</th>\n",
              "      <td>10</td>\n",
              "      <td>3,736,726.88</td>\n",
              "      <td>18914</td>\n",
              "      <td>197.56</td>\n",
              "      <td>0.04</td>\n",
              "    </tr>\n",
              "    <tr>\n",
              "      <th>10</th>\n",
              "      <td>11</td>\n",
              "      <td>3,199,603.20</td>\n",
              "      <td>16484</td>\n",
              "      <td>194.10</td>\n",
              "      <td>-0.02</td>\n",
              "    </tr>\n",
              "    <tr>\n",
              "      <th>11</th>\n",
              "      <td>12</td>\n",
              "      <td>4,613,443.34</td>\n",
              "      <td>23213</td>\n",
              "      <td>198.74</td>\n",
              "      <td>0.02</td>\n",
              "    </tr>\n",
              "  </tbody>\n",
              "</table>\n",
              "</div>"
            ],
            "text/plain": [
              "    month        sales  ...  sales_per_household  sales_per_household_growth\n",
              "0       1 1,822,256.73  ...               198.39                         nan\n",
              "1       2 2,202,022.42  ...               194.80                       -0.02\n",
              "2       3 2,807,100.38  ...               197.06                        0.01\n",
              "3       4 3,390,670.24  ...               198.15                        0.01\n",
              "4       5 3,152,606.75  ...               203.78                        0.03\n",
              "5       6 2,577,802.26  ...               202.66                       -0.01\n",
              "6       7 2,647,775.76  ...               196.52                       -0.03\n",
              "7       8 2,244,467.88  ...               198.63                        0.01\n",
              "8       9 2,097,560.13  ...               190.25                       -0.04\n",
              "9      10 3,736,726.88  ...               197.56                        0.04\n",
              "10     11 3,199,603.20  ...               194.10                       -0.02\n",
              "11     12 4,613,443.34  ...               198.74                        0.02\n",
              "\n",
              "[12 rows x 5 columns]"
            ]
          },
          "metadata": {
            "tags": []
          },
          "execution_count": 44
        }
      ]
    },
    {
      "cell_type": "code",
      "metadata": {
        "colab": {
          "base_uri": "https://localhost:8080/",
          "height": 285
        },
        "id": "Vef9VKMxGDFR",
        "outputId": "4cfbd23c-4479-4ad3-a6fc-6c009c670db2"
      },
      "source": [
        "#as we can see, it's been very stable, with variations less than 0.05\n",
        "sph['sales_per_household_growth'].plot(kind='bar')"
      ],
      "execution_count": 45,
      "outputs": [
        {
          "output_type": "execute_result",
          "data": {
            "text/plain": [
              "<matplotlib.axes._subplots.AxesSubplot at 0x7f2b0dd7aed0>"
            ]
          },
          "metadata": {
            "tags": []
          },
          "execution_count": 45
        },
        {
          "output_type": "display_data",
          "data": {
            "image/png": "[encoded data removed]",
            "text/plain": [
              "<Figure size 432x288 with 1 Axes>"
            ]
          },
          "metadata": {
            "tags": [],
            "needs_background": "light"
          }
        }
      ]
    },
    {
      "cell_type": "markdown",
      "metadata": {
        "id": "kPOcLJ1oGZ3_"
      },
      "source": [
        "# **For now, I think that's it! Thanks a lot**"
      ]
    }
  ]
}